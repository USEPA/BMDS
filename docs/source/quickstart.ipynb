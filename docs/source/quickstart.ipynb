{
 "cells": [
  {
   "cell_type": "code",
   "execution_count": null,
   "id": "be2df930-2a11-4f0d-812b-d28614fb8ec4",
   "metadata": {
    "tags": [
     "remove-cell"
    ]
   },
   "outputs": [],
   "source": [
    "%matplotlib inline\n",
    "import warnings\n",
    "from IPython.display import display\n",
    "warnings.filterwarnings('ignore')\n",
    "# tag: remove-cell applied"
   ]
  },
  {
   "cell_type": "markdown",
   "id": "b3ab764b-47ae-41fc-b1f9-af081b24eda7",
   "metadata": {},
   "source": [
    "# pybmds Quickstart\n",
    "\n",
    "The `pybmds` package is designed for those familiar with basic scripting in languages like R or Python. In Python there are many different environments (jupyter notebooks, ipython, RStudio, Sypder, etc) commonly used for scripting; the example below will work in any of them.  \n",
    "\n",
    "This guide is recommended for people with general familiarity with scripting.\n",
    "\n",
    "To create a dataset and fit a suite of dose-response models to the dataset:"
   ]
  },
  {
   "cell_type": "code",
   "execution_count": null,
   "id": "1cb08032-aeec-4fe6-9f17-370537318add",
   "metadata": {
    "tags": []
   },
   "outputs": [],
   "source": [
    "import pybmds\n",
    "\n",
    "# create a dataset\n",
    "dataset = pybmds.DichotomousDataset(\n",
    "    doses=[0, 10, 50, 150, 400],\n",
    "    ns=[25, 25, 24, 24, 24],\n",
    "    incidences=[0, 3, 7, 11, 15],\n",
    ")\n",
    "\n",
    "# create a BMD session\n",
    "session = pybmds.Session(dataset=dataset)\n",
    "\n",
    "# add all default models\n",
    "session.add_default_models()\n",
    "\n",
    "# execute the session\n",
    "session.execute()\n",
    "\n",
    "# show a summary figure\n",
    "session.plot(colorize=True)"
   ]
  },
  {
   "cell_type": "markdown",
   "id": "9f803990",
   "metadata": {},
   "source": [
    "Show the first model output from the current session (i.e. Logistic):"
   ]
  },
  {
   "cell_type": "code",
   "execution_count": null,
   "id": "e6851dfb",
   "metadata": {},
   "outputs": [],
   "source": [
    "first_model = session.models[0]\n",
    "first_model.plot()"
   ]
  },
  {
   "cell_type": "markdown",
   "id": "e41b8b61",
   "metadata": {},
   "source": [
    "Detailed outputs are available with the `results` attribute on each model, or you can view a quick text summary output of the model fit:\n"
   ]
  },
  {
   "cell_type": "code",
   "execution_count": null,
   "id": "2889d950",
   "metadata": {},
   "outputs": [],
   "source": [
    "print(first_model.text())"
   ]
  },
  {
   "cell_type": "markdown",
   "id": "8d9dd706",
   "metadata": {},
   "source": [
    "Recommend a best-fitting model from the collection of models used to fit the dataset: "
   ]
  },
  {
   "cell_type": "code",
   "execution_count": null,
   "id": "30d604fa",
   "metadata": {},
   "outputs": [],
   "source": [
    "session.recommend()"
   ]
  },
  {
   "cell_type": "markdown",
   "id": "bebdff32",
   "metadata": {},
   "source": [
    "And show the recommended model:"
   ]
  },
  {
   "cell_type": "code",
   "execution_count": null,
   "id": "4dd1f596-db6b-4fc0-bdfb-3db0f22bb3ce",
   "metadata": {
    "tags": []
   },
   "outputs": [],
   "source": [
    "print(session.recommended_model.text())\n",
    "session.recommended_model.plot()"
   ]
  }
 ],
 "metadata": {
  "kernelspec": {
   "display_name": "Python 3 (ipykernel)",
   "language": "python",
   "name": "python3"
  },
  "language_info": {
   "codemirror_mode": {
    "name": "ipython",
    "version": 3
   },
   "file_extension": ".py",
   "mimetype": "text/x-python",
   "name": "python",
   "nbconvert_exporter": "python",
   "pygments_lexer": "ipython3",
   "version": "3.12.0"
  }
 },
 "nbformat": 4,
 "nbformat_minor": 5
}
