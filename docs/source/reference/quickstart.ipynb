{
 "cells": [
  {
   "cell_type": "code",
   "execution_count": null,
   "id": "be2df930-2a11-4f0d-812b-d28614fb8ec4",
   "metadata": {
    "tags": [
     "remove-cell"
    ]
   },
   "outputs": [],
   "source": [
    "%matplotlib inline\n",
    "import warnings\n",
    "from IPython.display import display\n",
    "warnings.filterwarnings('ignore')\n",
    "# tag: remove-cell applied"
   ]
  },
  {
   "cell_type": "markdown",
   "id": "b3ab764b-47ae-41fc-b1f9-af081b24eda7",
   "metadata": {},
   "source": [
    "# Quickstart\n",
    "\n",
    "`bmds` is a python package is designed to run the U.S. EPA Benchmark Dose Modeling Software (BMDS; [source](https://epa.gov/bmds)).\n",
    "\n",
    "It requires Python3.11+. Install the software using pip:\n",
    "\n",
    "```bash\n",
    "pip install pybmds\n",
    "```"
   ]
  },
  {
   "cell_type": "code",
   "execution_count": null,
   "id": "1cb08032-aeec-4fe6-9f17-370537318add",
   "metadata": {
    "tags": []
   },
   "outputs": [],
   "source": [
    "import pybmds\n",
    "\n",
    "# create a dataset\n",
    "dataset = pybmds.DichotomousDataset(\n",
    "    doses=[0, 10, 50, 150, 400],\n",
    "    ns=[25, 25, 24, 24, 24],\n",
    "    incidences=[0, 3, 7, 11, 15],\n",
    ")\n",
    "\n",
    "# create a BMD session\n",
    "session = pybmds.Session(dataset=dataset)\n",
    "\n",
    "# add all default models\n",
    "session.add_default_models()\n",
    "\n",
    "# execute the session\n",
    "session.execute()\n",
    "\n",
    "# show a summary figure\n",
    "session.plot(colorize=True)"
   ]
  },
  {
   "cell_type": "code",
   "execution_count": null,
   "id": "e6851dfb",
   "metadata": {},
   "outputs": [],
   "source": [
    "# show the first model output\n",
    "first_model = session.models[0]\n",
    "first_model.plot()"
   ]
  },
  {
   "cell_type": "code",
   "execution_count": null,
   "id": "2889d950",
   "metadata": {},
   "outputs": [],
   "source": [
    "print(first_model.text())"
   ]
  },
  {
   "cell_type": "code",
   "execution_count": null,
   "id": "30d604fa",
   "metadata": {},
   "outputs": [],
   "source": [
    "# recommend a best-fitting model\n",
    "session.recommend()"
   ]
  },
  {
   "cell_type": "code",
   "execution_count": null,
   "id": "4dd1f596-db6b-4fc0-bdfb-3db0f22bb3ce",
   "metadata": {
    "tags": []
   },
   "outputs": [],
   "source": [
    "model_index = session.recommender.results.recommended_model_index\n",
    "if model_index:\n",
    "    model = session.models[model_index]\n",
    "\n",
    "model.plot()"
   ]
  },
  {
   "cell_type": "code",
   "execution_count": null,
   "id": "0fa638e0-dece-4b2d-9dcd-c56a1eff7619",
   "metadata": {
    "tags": []
   },
   "outputs": [],
   "source": [
    "print(model.text())"
   ]
  }
 ],
 "metadata": {
  "kernelspec": {
   "display_name": "Python 3 (ipykernel)",
   "language": "python",
   "name": "python3"
  },
  "language_info": {
   "codemirror_mode": {
    "name": "ipython",
    "version": 3
   },
   "file_extension": ".py",
   "mimetype": "text/x-python",
   "name": "python",
   "nbconvert_exporter": "python",
   "pygments_lexer": "ipython3",
   "version": "3.11.9"
  }
 },
 "nbformat": 4,
 "nbformat_minor": 5
}
