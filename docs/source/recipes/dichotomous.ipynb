{
 "cells": [
  {
   "cell_type": "code",
   "execution_count": null,
   "id": "c49af5ec-654c-4a50-8a22-42a275cc38d3",
   "metadata": {
    "tags": [
     "remove-cell"
    ]
   },
   "outputs": [],
   "source": [
    "%matplotlib inline\n",
    "import warnings\n",
    "warnings.filterwarnings('ignore')\n",
    "from IPython.display import display\n",
    "# tag: remove-cell applied"
   ]
  },
  {
   "cell_type": "markdown",
   "id": "f79ba4a8-b4d6-4f65-aead-f71a017b160e",
   "metadata": {},
   "source": [
    "# Dichotomous Data\n",
    "\n",
    "## Quickstart\n",
    "\n",
    "To run a dichotomous dataset:"
   ]
  },
  {
   "cell_type": "code",
   "execution_count": null,
   "id": "bfa630e2-8ad7-4ad8-94b0-514d0dc04fcf",
   "metadata": {
    "tags": []
   },
   "outputs": [],
   "source": [
    "import pybmds\n",
    "\n",
    "dataset = pybmds.DichotomousDataset(\n",
    "    doses=[0, 25, 75, 125, 200],\n",
    "    ns=[20, 20, 20, 20, 20],\n",
    "    incidences=[0, 1, 7, 15, 19],\n",
    ")\n",
    "\n",
    "# create a BMD session\n",
    "session = pybmds.Session(dataset=dataset)\n",
    "\n",
    "# add all default models\n",
    "session.add_default_models()\n",
    "\n",
    "# execute the session\n",
    "session.execute()\n",
    "\n",
    "# recommend a best-fitting model\n",
    "session.recommend()\n",
    "\n",
    "if session.recommended_model is not None:\n",
    "    display(session.recommended_model.plot())\n",
    "    print(session.recommended_model.text())\n",
    "\n",
    "# save excel report\n",
    "df = session.to_df()\n",
    "df.to_excel(\"output/report.xlsx\")\n",
    "\n",
    "# save to a word report\n",
    "report = session.to_docx()\n",
    "report.save(\"output/report.docx\")"
   ]
  },
  {
   "cell_type": "markdown",
   "id": "b3b68fc7-5830-447f-a728-2491fdc0aca3",
   "metadata": {},
   "source": [
    "## Dichotomous datasets\n",
    "\n",
    "Creating a dichotomous dataset requires a list of doses, incidences, and the total number of subjects, one item per dose group.\n",
    "\n",
    "You can also add optional attributes, such as `name`, `dose_name`, `dose_units`, `response_name`, `response_units`, etc.\n",
    "\n",
    "For example:"
   ]
  },
  {
   "cell_type": "code",
   "execution_count": null,
   "id": "79a6a4e0-216d-4341-b9a9-b7cffefef04d",
   "metadata": {
    "tags": []
   },
   "outputs": [],
   "source": [
    "dataset = pybmds.DichotomousDataset(\n",
    "    name=\"ChemX Nasal Lesion Incidence\",\n",
    "    dose_name=\"Concentration\",\n",
    "    dose_units=\"ppm\",\n",
    "    doses=[0, 25, 75, 125, 200],\n",
    "    ns=[20, 20, 20, 20, 20],\n",
    "    incidences=[0, 1, 7, 15, 19],\n",
    ")\n",
    "\n",
    "dataset.plot()"
   ]
  },
  {
   "cell_type": "markdown",
   "id": "364f7d11-7727-4bef-a177-acab7cc521db",
   "metadata": {},
   "source": [
    "## Single model fit\n",
    "\n",
    "You can fit a specific model to the dataset and plot/print the results.  The printed results will include the BMD, BMDL, BMDU, p-value, AIC, etc. \n",
    "\n",
    "The individual models available are shown below. Note that the degrees of the Multistage mode can be increased to a maximum of the lesser of N-1 or 8 (as specified in the BMDS User Guide). "
   ]
  },
  {
   "cell_type": "code",
   "execution_count": null,
   "id": "9fcb68fe-1bc5-475f-b1c6-44dbb82d4646",
   "metadata": {
    "tags": [
     "remove-output"
    ]
   },
   "outputs": [],
   "source": [
    "from pybmds.models import dichotomous\n",
    "\n",
    "dichotomous.QuantalLinear(dataset)\n",
    "dichotomous.Multistage(dataset, settings = {\"degree\": 2})\n",
    "dichotomous.Multistage(dataset, settings = {\"degree\": 3})\n",
    "dichotomous.Logistic(dataset)\n",
    "dichotomous.LogLogistic(dataset)\n",
    "dichotomous.Probit(dataset)\n",
    "dichotomous.LogProbit(dataset)\n",
    "dichotomous.Gamma(dataset)\n",
    "dichotomous.Weibull(dataset)\n",
    "dichotomous.DichotomousHill(dataset)"
   ]
  },
  {
   "cell_type": "markdown",
   "id": "8385b119",
   "metadata": {},
   "source": [
    "As an example, to fit the Logistic model:"
   ]
  },
  {
   "cell_type": "code",
   "execution_count": null,
   "id": "e28187f9-49f1-4ea7-8ff6-8dff980769c5",
   "metadata": {
    "tags": []
   },
   "outputs": [],
   "source": [
    "\n",
    "model = dichotomous.Logistic(dataset)\n",
    "model.execute()\n",
    "model.plot()"
   ]
  },
  {
   "cell_type": "markdown",
   "id": "e49d198b-df87-418e-adb3-99e26e2cb763",
   "metadata": {},
   "source": [
    "To generate an output report:"
   ]
  },
  {
   "cell_type": "code",
   "execution_count": null,
   "id": "11a680af-6377-484c-a5f9-92f5c8799679",
   "metadata": {
    "tags": []
   },
   "outputs": [],
   "source": [
    "print(model.text())"
   ]
  },
  {
   "cell_type": "markdown",
   "id": "635aa34b-97fb-464b-815b-0501ac31127e",
   "metadata": {},
   "source": [
    "The individual models that you can fit are shown below. Note that the degrees of the Multistage model can be increased to a maximum of the lesser of n-1 or 8 (as specified in the BMDS User Guide)."
   ]
  },
  {
   "cell_type": "markdown",
   "id": "5541698b-e53a-44fb-836a-e3f310ade4d8",
   "metadata": {},
   "source": [
    "### Change input settings\n",
    "\n",
    "The default settings for a dichotomous run use a BMR of 10% Extra Risk and a 95% confidence interval. If you fit a single model to your dataset, settings for that model can be modified:"
   ]
  },
  {
   "cell_type": "code",
   "execution_count": null,
   "id": "ff592f4a-2c5b-4519-a135-28356eee3e83",
   "metadata": {
    "tags": []
   },
   "outputs": [],
   "source": [
    "model = dichotomous.Logistic(dataset, settings={\n",
    "    \"bmr\": 0.15,\n",
    "    \"bmr_type\": pybmds.DichotomousRiskType.AddedRisk\n",
    "})\n",
    "print(model.settings.tbl())"
   ]
  },
  {
   "cell_type": "markdown",
   "id": "0c3699e2-e612-45bf-a50d-169e8a22829f",
   "metadata": {},
   "source": [
    "### Change parameter settings\n",
    "\n",
    "If you want to see a preview of the initial parameter settings, you can run:"
   ]
  },
  {
   "cell_type": "code",
   "execution_count": null,
   "id": "52d9bead-d77b-420d-8598-39b4df3c12d8",
   "metadata": {
    "tags": []
   },
   "outputs": [],
   "source": [
    "model = dichotomous.Logistic(dataset)\n",
    "print(model.priors_tbl())"
   ]
  },
  {
   "cell_type": "markdown",
   "id": "baf8d799-3a37-411d-8613-59baf1171986",
   "metadata": {},
   "source": [
    "You can also change the initial parameter settings shown above for any run of a single dichotomous model. \n",
    "\n",
    "Continuing with the Logistic model example, for the `a` parameter, you can change the minimum and maximum range from -10 to 10, while `b` can range from 0 to 50:"
   ]
  },
  {
   "cell_type": "code",
   "execution_count": null,
   "id": "874f0ec8-00f5-45de-9243-3a7910161b90",
   "metadata": {
    "tags": []
   },
   "outputs": [],
   "source": [
    "model.settings.priors.update('a', min_value=-10, max_value=10)\n",
    "model.settings.priors.update('b', min_value=0, max_value=50)\n",
    "print(model.priors_tbl())"
   ]
  },
  {
   "cell_type": "markdown",
   "id": "ae36003c-eddf-4411-b4cd-4a2e420ee54f",
   "metadata": {},
   "source": [
    "You can change the range and initial value for any parameter in the model by following the same steps above.\n",
    "\n",
    "## Multiple model fit (sessions) and model recommendation\n",
    "\n",
    "To run all the default models, save the results, and save the plot of the fit of the recommended model with the data:"
   ]
  },
  {
   "cell_type": "code",
   "execution_count": null,
   "id": "363ba8b7-3644-4d2a-b19e-6c2c78eca901",
   "metadata": {
    "tags": []
   },
   "outputs": [],
   "source": [
    "dataset = pybmds.DichotomousDataset(\n",
    "    doses=[0, 25, 75, 125, 200],\n",
    "    ns=[20, 20, 20, 20, 20],\n",
    "    incidences=[0, 1, 7, 15, 19],\n",
    ")\n",
    "\n",
    "# create a BMD session\n",
    "session = pybmds.Session(dataset=dataset)\n",
    "\n",
    "# add all default models\n",
    "session.add_default_models()\n",
    "\n",
    "# execute the session\n",
    "session.execute()\n",
    "\n",
    "# recommend a best-fitting model\n",
    "session.recommend()\n",
    "\n",
    "#print recommended model and plot recommended model with dataset\n",
    "model_index = session.recommender.results.recommended_model_index\n",
    "if model_index:\n",
    "    model = session.models[model_index]\n",
    "    display(model.plot())\n",
    "    print(model.text())\n"
   ]
  },
  {
   "cell_type": "markdown",
   "id": "36e5c677",
   "metadata": {},
   "source": [
    "You can also plot all models:"
   ]
  },
  {
   "cell_type": "code",
   "execution_count": null,
   "id": "36ae44bd",
   "metadata": {},
   "outputs": [],
   "source": [
    "session.plot()"
   ]
  },
  {
   "cell_type": "code",
   "execution_count": null,
   "id": "b07be79f",
   "metadata": {},
   "outputs": [],
   "source": [
    "session.plot(colorize=False)"
   ]
  },
  {
   "cell_type": "markdown",
   "id": "b1315f82",
   "metadata": {},
   "source": [
    "To generate Excel and Word reports:"
   ]
  },
  {
   "cell_type": "code",
   "execution_count": null,
   "id": "97394aa4",
   "metadata": {},
   "outputs": [],
   "source": [
    "# save excel report\n",
    "df = session.to_df()\n",
    "df.to_excel(\"output/report.xlsx\")\n",
    "\n",
    "# save to a word report\n",
    "report = session.to_docx()\n",
    "report.save(\"output/report.docx\")"
   ]
  },
  {
   "cell_type": "markdown",
   "id": "ff3a60fa",
   "metadata": {},
   "source": [
    "### Change session settings\n",
    "\n",
    "If you run all the default models and select the best fit, you can change these settings by:"
   ]
  },
  {
   "cell_type": "code",
   "execution_count": null,
   "id": "66be9fa0-9506-46f6-9217-d991a4f7082d",
   "metadata": {
    "tags": []
   },
   "outputs": [],
   "source": [
    "session.add_default_models(\n",
    "    settings = {\n",
    "        \"bmr\": 0.15,\n",
    "        \"bmr_type\": pybmds.DichotomousRiskType.AddedRisk,\n",
    "        \"alpha\": 0.1\n",
    "    }\n",
    ")"
   ]
  },
  {
   "cell_type": "markdown",
   "id": "cec6d526-d182-45ce-befd-f100283a99a4",
   "metadata": {
    "editable": true,
    "slideshow": {
     "slide_type": ""
    },
    "tags": []
   },
   "source": [
    "This would run the dichotomous models for a BMR of 15% Added Risk at a 90% confidence interval."
   ]
  },
  {
   "cell_type": "markdown",
   "id": "fde3c3d1-c86e-4490-898d-5382f3ea3923",
   "metadata": {},
   "source": [
    "### Run subset of models\n",
    "\n",
    "You can select a set of models, rather than using all available models. \n",
    "\n",
    "For example, to evaluate the Logistic, Probit, Quantal Linear, and Weibull models:"
   ]
  },
  {
   "cell_type": "code",
   "execution_count": null,
   "id": "ab99e1e6-7f76-4e4e-9282-19a7b65bccd8",
   "metadata": {
    "tags": []
   },
   "outputs": [],
   "source": [
    "session = pybmds.Session(dataset=dataset)\n",
    "session.add_model(pybmds.Models.Weibull)\n",
    "session.add_model(pybmds.Models.Logistic)\n",
    "session.add_model(pybmds.Models.Probit)\n",
    "session.add_model(pybmds.Models.QuantalLinear)\n",
    "\n",
    "session.execute()"
   ]
  },
  {
   "cell_type": "markdown",
   "id": "8f02b69e-13a9-4916-b723-20734b96c9a1",
   "metadata": {},
   "source": [
    "### Model recommendation and selection\n",
    "\n",
    "The `pybmds` package may recommend a best fitting model based on a decision tree, but expert judgment may be required for model selection. To run model recommendation and view a recommended model, if one is recommended:"
   ]
  },
  {
   "cell_type": "code",
   "execution_count": null,
   "id": "de5db7f4",
   "metadata": {},
   "outputs": [],
   "source": [
    "session.recommend()\n",
    "\n",
    "if session.recommended_model is not None:\n",
    "    display(session.recommended_model.plot())\n",
    "    print(session.recommended_model.text())"
   ]
  },
  {
   "cell_type": "markdown",
   "id": "a0b22de3-5956-4cfb-bede-6c113c434401",
   "metadata": {},
   "source": [
    "You can select a best fitting model and output reports generated will indicate this selection.  This is a manual action. The example below selects the recommended model, but any model in the session could be selected."
   ]
  },
  {
   "cell_type": "code",
   "execution_count": null,
   "id": "f9992537-c68c-47fa-82c1-8a221b3a821b",
   "metadata": {},
   "outputs": [],
   "source": [
    "session.select(model=session.recommended_model, notes=\"Lowest BMDL; recommended model\")"
   ]
  },
  {
   "cell_type": "markdown",
   "id": "f8cfd6b7-036c-4e0b-b937-454585403c85",
   "metadata": {},
   "source": [
    "Generated outputs (Excel, Word, JSON) would include model selection information."
   ]
  }
 ],
 "metadata": {
  "kernelspec": {
   "display_name": "Python 3 (ipykernel)",
   "language": "python",
   "name": "python3"
  },
  "language_info": {
   "codemirror_mode": {
    "name": "ipython",
    "version": 3
   },
   "file_extension": ".py",
   "mimetype": "text/x-python",
   "name": "python",
   "nbconvert_exporter": "python",
   "pygments_lexer": "ipython3",
   "version": "3.12.4"
  }
 },
 "nbformat": 4,
 "nbformat_minor": 5
}
