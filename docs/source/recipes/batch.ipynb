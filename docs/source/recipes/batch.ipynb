{
 "cells": [
  {
   "cell_type": "code",
   "execution_count": null,
   "id": "f9fbde9d-3186-4291-90fc-54f306378dff",
   "metadata": {
    "editable": true,
    "slideshow": {
     "slide_type": ""
    },
    "tags": [
     "remove-cell"
    ]
   },
   "outputs": [],
   "source": [
    "%matplotlib inline\n",
    "%env TQDM_DISABLE=1\n",
    "import warnings\n",
    "warnings.filterwarnings('ignore')\n",
    "# tag: remove-cell applied"
   ]
  },
  {
   "cell_type": "markdown",
   "id": "5a80a972-5ca0-479a-92f7-516f74f1023b",
   "metadata": {
    "tags": []
   },
   "source": [
    "# Batch Execution\n",
    "\n",
    "If you have several dose-response datasets, you can run a batch.  As an example, consider a CSV or Excel file of dichotomous datasets that looks something like this (with one row per dataset):\n",
    "\n",
    "| ID | Dose              | Incidence | N         |\n",
    "|----|-------------------|-----------|-----------|\n",
    "| 1  | 0;0.5;1           | 0;3;5     | 5;5;5     |\n",
    "| 2  | 0;0.33;0.67;1     | 0;0;4;5   | 5;5;5;5   |\n",
    "| 3  | 0;0.25;0.5;1      | 0;0;3;5   | 5;5;5;5   |\n",
    "| 4  | 0;0.33;0.67;1     | 0;0;1;1   | 5;5;5;5   |\n",
    "| 5  | 0;0.25;0.5;1      | 0;0;1;1   | 5;5;5;5   |\n",
    "| 6  | 0;0.33;0.67;1     | 0;0;1;1   | 5;5;5;5   |\n",
    "| 7  | 0;0.25;0.5;1      | 0;0;1;1   | 5;5;5;5   |\n",
    "| 8  | 0;0.25;0.5;0.75;1 | 0;0;1;3;1 | 5;5;5;5;5 |\n",
    "\n",
    "To run in pybmds, you'll first need to load the dataset, and create a `DichotomousDataset` object for each row:"
   ]
  },
  {
   "cell_type": "code",
   "execution_count": null,
   "id": "2da67721-3f98-489c-9fe5-74f9f44524fd",
   "metadata": {
    "tags": []
   },
   "outputs": [],
   "source": [
    "import os\n",
    "from copy import deepcopy\n",
    "\n",
    "import pandas as pd\n",
    "\n",
    "import pybmds\n",
    "from pybmds.models import dichotomous\n",
    "\n",
    "\n",
    "# change output file to where you want it to belong\n",
    "OUTPUT_FN = 'output/batch.xlsx'\n",
    "\n",
    "# change input file to where you want it to belong\n",
    "fn = 'data/batch.csv'\n",
    "assert os.path.exists(fn)\n",
    "\n",
    "df = pd.read_csv(fn)\n",
    "\n",
    "def dichotomous_dictify(d):\n",
    "    try:\n",
    "        return dict(\n",
    "              id=d.ID,\n",
    "              doses=list(map(float, d.Dose.split(';'))),\n",
    "              ns=list(map(int, d.N.split(';'))),\n",
    "              incidences=list(map(int, d.Incidence.split(';'))),\n",
    "        )\n",
    "    except:\n",
    "        print(f'Row {d.ID} not included')\n",
    "        return None\n",
    "\n",
    "def get_bmds_dataset(dtype, dataset):\n",
    "    if dtype == pybmds.constants.Dtype.CONTINUOUS:\n",
    "        cls = pybmds.ContinuousDataset\n",
    "    elif dtype == pybmds.constants.Dtype.CONTINUOUS_INDIVIDUAL:\n",
    "        cls = pybmds.ContinuousIndividualDataset\n",
    "    elif dtype == pybmds.constants.Dtype.DICHOTOMOUS:\n",
    "        cls = pybmds.DichotomousDataset\n",
    "    return cls(**dataset)\n",
    "\n",
    "dichotomous_data = [\n",
    "    d for d in df.apply(dichotomous_dictify, axis=1)\n",
    "    if d is not None\n",
    "]\n",
    "\n",
    "dichotomous_datasets = [\n",
    "    get_bmds_dataset(\"D\", data) for data in dichotomous_data\n",
    "]"
   ]
  },
  {
   "cell_type": "markdown",
   "id": "3d99d1b2-5df8-4586-8062-a5d7c1bf59cb",
   "metadata": {},
   "source": [
    "## Single model, multiple datasets\n",
    "\n",
    "With datasets loaded, we can run a single model for each dataset if we'd like:"
   ]
  },
  {
   "cell_type": "code",
   "execution_count": null,
   "id": "3fb7ec5a-19fa-47bd-88fc-6b97f49990fe",
   "metadata": {
    "tags": []
   },
   "outputs": [],
   "source": [
    "dichotomous_results = []\n",
    "for dataset in dichotomous_datasets:\n",
    "    model = dichotomous.Multistage(\n",
    "        dataset=dataset,\n",
    "        settings={\"degree\": 2}\n",
    "    )\n",
    "    result = model.execute()\n",
    "    dichotomous_results.append(model)"
   ]
  },
  {
   "cell_type": "markdown",
   "id": "6e4bbb5f-9d43-48f5-9f25-5ed8169501ff",
   "metadata": {
    "tags": []
   },
   "source": [
    "And then we could export a simple list of results:"
   ]
  },
  {
   "cell_type": "code",
   "execution_count": null,
   "id": "83ce9721-92ba-4ec9-8f67-8c0643e15235",
   "metadata": {
    "tags": []
   },
   "outputs": [],
   "source": [
    "outputs = [\n",
    "    [model.dataset.metadata.id, model.name(), model.results.bmd, model.results.bmdl, model.results.bmdu]\n",
    "    for model in dichotomous_results\n",
    "]\n",
    "output_df = pd.DataFrame(data=outputs, columns=\"Dataset-ID Name BMD BMDL BMDU\".split())\n",
    "output_df.head()"
   ]
  },
  {
   "cell_type": "markdown",
   "id": "fbe2e352-a540-4d1b-85c0-cd1df84e43d4",
   "metadata": {
    "tags": []
   },
   "source": [
    "## Session batch execution\n",
    "\n",
    "Alternatively, you could run an BMDS modeling session, which executes a suite of models and returns the best fitting result."
   ]
  },
  {
   "cell_type": "code",
   "execution_count": null,
   "id": "e501ae04-a834-4141-a648-53f9f8e1f20a",
   "metadata": {
    "editable": true,
    "slideshow": {
     "slide_type": ""
    },
    "tags": [
     "remove-output"
    ]
   },
   "outputs": [],
   "source": [
    "# function takes a dataset as input and returns an execution response\n",
    "def runner(ds):\n",
    "    sess = pybmds.Session(dataset=ds)\n",
    "    sess.add_model(pybmds.Models.Logistic, settings={\"bmr\": 0.2})\n",
    "    sess.add_model(pybmds.Models.Probit, settings={\"bmr\": 0.2})\n",
    "    sess.execute_and_recommend()\n",
    "    return pybmds.BatchResponse(success=True, content=[sess.to_dict()])\n",
    "\n",
    "# execute all datasets and sessions on a single processor\n",
    "batch = pybmds.BatchSession().execute(dichotomous_datasets, runner, nprocs=1)"
   ]
  },
  {
   "cell_type": "markdown",
   "id": "4831987d-f0fc-4f90-b532-42ad2d8f9003",
   "metadata": {
    "editable": true,
    "slideshow": {
     "slide_type": ""
    },
    "tags": []
   },
   "source": [
    "Save Excel and Word reports:"
   ]
  },
  {
   "cell_type": "code",
   "execution_count": null,
   "id": "c5e58c20-863f-48ba-9c48-ca268406e6e9",
   "metadata": {
    "editable": true,
    "slideshow": {
     "slide_type": ""
    },
    "tags": []
   },
   "outputs": [],
   "source": [
    "batch.to_excel(\"output/batch.xlsx\")\n",
    "batch.to_docx().save(\"output/batch.docx\")"
   ]
  },
  {
   "cell_type": "markdown",
   "id": "84bf1d85-f8c8-4338-b9e8-c3c96c1c7a5f",
   "metadata": {
    "editable": true,
    "slideshow": {
     "slide_type": ""
    },
    "tags": []
   },
   "source": [
    "You could even run two sessions for each dataset, for example, running two different BMRs. The only change in the code above is modifying the `runner` function:"
   ]
  },
  {
   "cell_type": "code",
   "execution_count": null,
   "id": "7e497da1-f6fd-43bb-9841-009396edc260",
   "metadata": {
    "editable": true,
    "slideshow": {
     "slide_type": ""
    },
    "tags": [
     "remove-output"
    ]
   },
   "outputs": [],
   "source": [
    "def runner2(ds):\n",
    "    sess1 = pybmds.Session(dataset=ds)\n",
    "    sess1.add_model(pybmds.Models.Logistic, settings={\"bmr\": 0.1})\n",
    "    sess1.add_model(pybmds.Models.Probit, settings={\"bmr\": 0.1})\n",
    "    sess1.execute_and_recommend()\n",
    "\n",
    "    sess2 = pybmds.Session(dataset=ds)\n",
    "    sess2.add_model(pybmds.Models.Logistic, settings={\"bmr\": 0.2})\n",
    "    sess2.add_model(pybmds.Models.Probit, settings={\"bmr\": 0.2})\n",
    "    sess2.execute_and_recommend()\n",
    "\n",
    "    return pybmds.BatchResponse(success=True, content=[sess1.to_dict(), sess2.to_dict()])\n",
    "\n",
    "batch = pybmds.BatchSession().execute(dichotomous_datasets, runner2, nprocs=1)"
   ]
  }
 ],
 "metadata": {
  "kernelspec": {
   "display_name": "Python 3 (ipykernel)",
   "language": "python",
   "name": "python3"
  },
  "language_info": {
   "codemirror_mode": {
    "name": "ipython",
    "version": 3
   },
   "file_extension": ".py",
   "mimetype": "text/x-python",
   "name": "python",
   "nbconvert_exporter": "python",
   "pygments_lexer": "ipython3",
   "version": "3.12.4"
  }
 },
 "nbformat": 4,
 "nbformat_minor": 5
}
