{
 "cells": [
  {
   "cell_type": "code",
   "execution_count": null,
   "id": "935f6bc3-fc3d-4cc9-aa86-a447b8a659d2",
   "metadata": {
    "editable": true,
    "slideshow": {
     "slide_type": ""
    },
    "tags": [
     "remove-cell"
    ]
   },
   "outputs": [],
   "source": [
    "%matplotlib inline\n",
    "%env TQDM_DISABLE=1\n",
    "import warnings\n",
    "warnings.filterwarnings('ignore')\n",
    "# tag: remove-cell applied"
   ]
  },
  {
   "cell_type": "markdown",
   "id": "b3ff84f9-bd65-42e3-85f9-baf222b65d43",
   "metadata": {},
   "source": [
    "# Preparing Datasets\n",
    "\n",
    "We've compiled a few patterns that can be used to load data from a tabular file and prepare for modeling in `pybmds`."
   ]
  },
  {
   "cell_type": "markdown",
   "id": "442294c1-efa0-458b-b9d5-bc90150b8097",
   "metadata": {
    "editable": true,
    "slideshow": {
     "slide_type": ""
    },
    "tags": []
   },
   "source": [
    "## Processing long datasets\n",
    "\n",
    "If you have several dose-response datasets, you can run a batch.  As an example, consider a CSV or Excel file of dichotomous datasets that looks something like this (with one row per dose group):\n",
    "\n",
    "|   ID |   Dose |   Incidence |   N |\n",
    "|-----:|-------:|------------:|----:|\n",
    "|    1 |   0    |           0 |   5 |\n",
    "|    1 |   0.5  |           3 |   5 |\n",
    "|    1 |   1    |           5 |   5 |\n",
    "|    2 |   0    |           0 |   5 |\n",
    "|    2 |   0.33 |           0 |   5 |\n",
    "|    2 |   0.67 |           4 |   5 |\n",
    "|    2 |   1    |           5 |   5 |\n",
    "|    3 |   0    |           0 |   5 |\n",
    "|    3 |   0.25 |           0 |   5 |\n",
    "|    3 |   0.5  |           3 |   5 |\n",
    "|    3 |   1    |           5 |   5 |\n",
    "\n",
    "\n",
    "You can start by loading the data into a pandas dataframe. \n",
    "\n",
    "```python\n",
    "import pandas as pd\n",
    "\n",
    "# if it's a CSV file\n",
    "df = pd.read_csv('./dataset.csv')\n",
    "\n",
    "# if it's an XLSX file:\n",
    "df = pd.read_excel('./dataset.xlsx', sheet_name='datasets')"
   ]
  },
  {
   "cell_type": "code",
   "execution_count": null,
   "id": "b26fa45e-52e9-4c77-af11-ef41f3efd1bc",
   "metadata": {
    "editable": true,
    "scrolled": true,
    "slideshow": {
     "slide_type": ""
    },
    "tags": [
     "remove-cell"
    ]
   },
   "outputs": [],
   "source": [
    "# tag: remove-cell applied\n",
    "from io import StringIO\n",
    "import pandas as pd\n",
    "\n",
    "df = pd.read_csv(StringIO(\"\"\"ID,Dose,Incidence,N\n",
    "1,0.0,0,5\n",
    "1,0.5,3,5\n",
    "1,1.0,5,5\n",
    "2,0.0,0,5\n",
    "2,0.33,0,5\n",
    "2,0.67,4,5\n",
    "2,1.0,5,5\n",
    "3,0.0,0,5\n",
    "3,0.25,0,5\n",
    "3,0.5,3,5\n",
    "3,1.0,5,5\n",
    "4,0.0,0,5\n",
    "4,0.33,0,5\n",
    "4,0.67,1,5\n",
    "4,1.0,1,5\n",
    "5,0.0,0,5\n",
    "5,0.25,0,5\n",
    "5,0.5,1,5\n",
    "5,1.0,1,5\n",
    "6,0.0,0,5\n",
    "6,0.33,0,5\n",
    "6,0.67,1,5\n",
    "6,1.0,1,5\n",
    "7,0.0,0,5\n",
    "7,0.25,0,5\n",
    "7,0.5,1,5\n",
    "7,1.0,1,5\n",
    "8,0.0,0,5\n",
    "8,0.25,0,5\n",
    "8,0.5,1,5\n",
    "8,0.75,3,5\n",
    "8,1.0,1,5\"\"\"))\n"
   ]
  },
  {
   "cell_type": "markdown",
   "id": "e58bf3c0-3f4a-4652-b9ee-8c7aa555cd4b",
   "metadata": {},
   "source": [
    "After loading the data from a file, we'll need to convert data frame style data into `pybmds` datasets:"
   ]
  },
  {
   "cell_type": "code",
   "execution_count": null,
   "id": "8fc5a70c-4cbb-47fa-887f-3f7958457ab2",
   "metadata": {
    "editable": true,
    "slideshow": {
     "slide_type": ""
    },
    "tags": []
   },
   "outputs": [],
   "source": [
    "import pybmds\n",
    "\n",
    "datasets = []\n",
    "for id, rows in df.groupby('ID'):\n",
    "    dataset = pybmds.DichotomousDataset(\n",
    "        id=id,\n",
    "        doses=rows.Dose.tolist(),\n",
    "        incidences=rows.Incidence.tolist(),\n",
    "        ns=rows.N.tolist()\n",
    "    )\n",
    "    datasets.append(dataset)\n",
    "\n",
    "print(len(datasets))\n",
    "print(datasets[0].tbl())"
   ]
  },
  {
   "cell_type": "markdown",
   "id": "6e452c06-cc7d-4c3a-b86a-5240dc5e4668",
   "metadata": {
    "editable": true,
    "slideshow": {
     "slide_type": ""
    },
    "tags": []
   },
   "source": [
    "The end result is a list of datsets ready for BMD modeling."
   ]
  },
  {
   "cell_type": "markdown",
   "id": "ab9e1d04-f0ce-4b60-93cc-7f08687601f1",
   "metadata": {},
   "source": [
    "## Processing wide datasets\n",
    "\n",
    "If you have several dose-response datasets, you can run a batch.  As an example, consider a CSV or Excel file of dichotomous datasets that looks something like this (with one row per dataset):\n",
    "\n",
    "| ID | Dose              | Incidence | N         |\n",
    "|----|-------------------|-----------|-----------|\n",
    "| 1  | 0;0.5;1           | 0;3;5     | 5;5;5     |\n",
    "| 2  | 0;0.33;0.67;1     | 0;0;4;5   | 5;5;5;5   |\n",
    "| 3  | 0;0.25;0.5;1      | 0;0;3;5   | 5;5;5;5   |\n",
    "| 4  | 0;0.33;0.67;1     | 0;0;1;1   | 5;5;5;5   |\n",
    "| 5  | 0;0.25;0.5;1      | 0;0;1;1   | 5;5;5;5   |\n",
    "| 6  | 0;0.33;0.67;1     | 0;0;1;1   | 5;5;5;5   |\n",
    "| 7  | 0;0.25;0.5;1      | 0;0;1;1   | 5;5;5;5   |\n",
    "| 8  | 0;0.25;0.5;0.75;1 | 0;0;1;3;1 | 5;5;5;5;5 |\n",
    "\n",
    "You can start by loading the data into a pandas dataframe. \n",
    "\n",
    "```python\n",
    "import pandas as pd\n",
    "\n",
    "# if it's a CSV file\n",
    "df = pd.read_csv('./dataset.csv')\n",
    "\n",
    "# if it's an XLSX file:\n",
    "df = pd.read_excel('./dataset.xlsx', sheet_name='datasets')\n",
    "```"
   ]
  },
  {
   "cell_type": "code",
   "execution_count": null,
   "id": "3a7662c8-8878-4f01-b3cc-6d7aac637324",
   "metadata": {
    "editable": true,
    "slideshow": {
     "slide_type": ""
    },
    "tags": [
        "remove-cell"
       ]
   },
   "outputs": [],
   "source": [
    "# tag: remove-cell applied\n",
    "from io import StringIO\n",
    "import pandas as pd\n",
    "\n",
    "df = pd.read_csv(StringIO(\"\"\"ID,Dose,Incidence,N\n",
    "1,0;0.5;1,0;3;5,5;5;5\n",
    "2,0;0.33;0.67;1,0;0;4;5,5;5;5;5\n",
    "3,0;0.25;0.5;1,0;0;3;5,5;5;5;5\n",
    "4,0;0.33;0.67;1,0;0;1;1,5;5;5;5\n",
    "5,0;0.25;0.5;1,0;0;1;1,5;5;5;5\n",
    "6,0;0.33;0.67;1,0;0;1;1,5;5;5;5\n",
    "7,0;0.25;0.5;1,0;0;1;1,5;5;5;5\n",
    "8,0;0.25;0.5;0.75;1,0;0;1;3;1,5;5;5;5;5\"\"\"))\n"
   ]
  },
  {
   "cell_type": "markdown",
   "id": "633d55fc-6be6-4ab7-a1ba-cecea5cf7feb",
   "metadata": {},
   "source": [
    "After loading the data from a file, we'll need to convert data frame style data into `pybmds` datasets:"
   ]
  },
  {
   "cell_type": "code",
   "execution_count": null,
   "id": "f9e60721-caf6-4676-93e6-f32a8e1f7ecf",
   "metadata": {
    "editable": true,
    "slideshow": {
     "slide_type": ""
    },
    "tags": []
   },
   "outputs": [],
   "source": [
    "import pybmds\n",
    "\n",
    "def create(row):\n",
    "    return pybmds.DichotomousDataset(\n",
    "        id=row.ID,\n",
    "        doses=list(map(float, row.Dose.split(';'))),\n",
    "        ns=list(map(int, row.N.split(';'))),\n",
    "        incidences=list(map(int, row.Incidence.split(';'))),\n",
    "    )\n",
    "\n",
    "\n",
    "datasets = df.apply(create, axis=1)\n",
    "\n",
    "print(len(datasets))\n",
    "print(datasets[0].tbl())"
   ]
  },
  {
   "cell_type": "markdown",
   "id": "0e98b363-ae7f-44d4-b6c8-d331820f0b6d",
   "metadata": {
    "editable": true,
    "slideshow": {
     "slide_type": ""
    },
    "tags": []
   },
   "source": [
    "The end result is a list of datsets ready for BMD modeling."
   ]
  }
 ],
 "metadata": {
  "kernelspec": {
   "display_name": "Python 3 (ipykernel)",
   "language": "python",
   "name": "python3"
  },
  "language_info": {
   "codemirror_mode": {
    "name": "ipython",
    "version": 3
   },
   "file_extension": ".py",
   "mimetype": "text/x-python",
   "name": "python",
   "nbconvert_exporter": "python",
   "pygments_lexer": "ipython3",
   "version": "3.12.0"
  }
 },
 "nbformat": 4,
 "nbformat_minor": 5
}
