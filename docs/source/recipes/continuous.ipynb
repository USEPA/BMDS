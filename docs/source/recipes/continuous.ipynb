{
 "cells": [
  {
   "cell_type": "markdown",
   "id": "62e15e09-2066-4dc2-b2da-f97624fa0c2e",
   "metadata": {},
   "source": [
    "# Modeling Continuous Data"
   ]
  },
  {
   "cell_type": "code",
   "execution_count": null,
   "id": "6c64cb77-7b35-4ea5-86be-a31580b6c1d3",
   "metadata": {
    "tags": [
     "remove-cell"
    ]
   },
   "outputs": [],
   "source": [
    "%matplotlib inline\n",
    "import warnings\n",
    "from IPython.display import display\n",
    "warnings.filterwarnings('ignore')\n",
    "# tag: remove-cell applied"
   ]
  },
  {
   "cell_type": "markdown",
   "id": "5d824391-e8ed-4cd5-a11c-43cea91cb447",
   "metadata": {
    "tags": []
   },
   "source": [
    "## Quickstart\n",
    "\n",
    "To run a continuous dataset:"
   ]
  },
  {
   "cell_type": "code",
   "execution_count": null,
   "id": "6fef9f39-75b1-4de1-8738-a2807fd618a1",
   "metadata": {
    "tags": []
   },
   "outputs": [],
   "source": [
    "import pybmds\n",
    "\n",
    "# create a continuous dataset\n",
    "dataset = pybmds.ContinuousDataset(\n",
    "    doses=[0, 25, 50, 75, 100],\n",
    "    ns=[20, 20, 20, 20, 20],\n",
    "    means=[6, 8, 13, 25, 30],\n",
    "    stdevs=[4, 4.3, 3.8, 4.4, 3.7]\n",
    ")\n",
    "\n",
    "# create a session\n",
    "session = pybmds.Session(dataset=dataset)\n",
    "session.add_default_models()\n",
    "\n",
    "# execute the session; recommend best-fitting model\n",
    "session.execute_and_recommend()\n",
    "\n",
    "# save excel report\n",
    "df = session.to_df()\n",
    "df.to_excel(\"output/report.xlsx\")\n",
    "\n",
    "# save to a word report\n",
    "report = session.to_docx()\n",
    "report.save(\"output/report.docx\")"
   ]
  },
  {
   "cell_type": "markdown",
   "id": "6384479d-08d3-43e0-8cf2-4b4d7135b54a",
   "metadata": {
    "tags": []
   },
   "source": [
    "## Create a continuous dataset\n",
    "\n",
    "To create a continuous dataset, you need a list of doses, mean responses, standard deviations, and the total number of subjects. As shown above, you use the ```ContinuousDataset()``` function and insert your data. You can specify the title of the dataset and the dose and response units. You can also create a plot of the dataset which will have the title that you name the dataset and the specified units. For example, here the dataset name is \"Body Weight from ChemX Exposure\"."
   ]
  },
  {
   "cell_type": "code",
   "execution_count": null,
   "id": "1765d1b0-a4b3-4d87-b8cd-597966887626",
   "metadata": {
    "tags": []
   },
   "outputs": [],
   "source": [
    "dataset = pybmds.ContinuousDataset(\n",
    "    name=\"Body Weight from ChemX Exposure\",\n",
    "    dose_units=\"ppm\",\n",
    "    response_units=\"kg\",\n",
    "    doses=[0, 25, 50, 75, 100],\n",
    "    ns=[20, 20, 20, 20, 20],\n",
    "    means=[6, 8, 13, 25, 30],\n",
    "    stdevs=[4, 4.3, 3.8, 4.4, 3.7]\n",
    ")\n",
    "dataset.plot()"
   ]
  },
  {
   "cell_type": "markdown",
   "id": "e1d74fca-a21e-441a-9f16-bf1188298b2e",
   "metadata": {
    "tags": []
   },
   "source": [
    "## Fitting one model to dataset\n",
    "\n",
    "If you want to fit only one model to your dataset, you can fit the specific model to the dataset and print the results such as the BMD, BMDL, BMDU, p-value, AIC, etc. Say you want to fit the Hill model, you can run the code below and print the results:"
   ]
  },
  {
   "cell_type": "code",
   "execution_count": null,
   "id": "81434be0-442e-4873-aaf3-e571866df1f4",
   "metadata": {
    "tags": []
   },
   "outputs": [],
   "source": [
    "from pybmds.models import continuous\n",
    "\n",
    "model = continuous.Hill(dataset)\n",
    "model.execute()\n",
    "model.plot()"
   ]
  },
  {
   "cell_type": "markdown",
   "id": "ecbf6e53-9533-4eb8-b4e3-0f37e481fcd8",
   "metadata": {},
   "source": [
    "The summary output can also be displayed:\n"
   ]
  },
  {
   "cell_type": "code",
   "execution_count": null,
   "id": "77f0f658-9e91-443a-b2a0-f250432a4f73",
   "metadata": {
    "tags": []
   },
   "outputs": [],
   "source": [
    "print(model.text())"
   ]
  },
  {
   "cell_type": "markdown",
   "id": "055564d5-c79c-4f7b-9241-28255ce6ef99",
   "metadata": {
    "tags": []
   },
   "source": [
    "The individual models that you can fit are shown below. Note that the degrees of the Polynomial model can be mincreased to a maximum of the lesser of n-1 or 8 (as specified in the BMDS User Guide)."
   ]
  },
  {
   "cell_type": "code",
   "execution_count": null,
   "id": "ab13547f-b3ed-4f44-9c74-0bfe041f29a6",
   "metadata": {
    "tags": []
   },
   "outputs": [],
   "source": [
    "continuous.Linear(dataset)\n",
    "continuous.Polynomial(dataset, settings = {\"degree\": 2})\n",
    "continuous.Polynomial(dataset, settings = {\"degree\": 3})\n",
    "continuous.Power(dataset)\n",
    "continuous.Hill(dataset)\n",
    "continuous.ExponentialM3(dataset)\n",
    "continuous.ExponentialM5(dataset)"
   ]
  },
  {
   "cell_type": "markdown",
   "id": "d78eb9a3-115e-4c0c-aa6c-7f8c2efd631c",
   "metadata": {
    "tags": []
   },
   "source": [
    "## Changing initial model parameter settings\n",
    "\n",
    "If you want to see a preview of the initial parameter settings, you can run:"
   ]
  },
  {
   "cell_type": "code",
   "execution_count": null,
   "id": "94b9102f-872a-496c-a89e-3bf2b8d82ab4",
   "metadata": {
    "tags": []
   },
   "outputs": [],
   "source": [
    "model = continuous.Hill(dataset)\n",
    "print(model.settings.tbl())\n",
    "print(model.priors_tbl())"
   ]
  },
  {
   "cell_type": "markdown",
   "id": "8cf7075b-ebcf-407a-b73d-a9aac7798ef5",
   "metadata": {
    "tags": []
   },
   "source": [
    "You can also change the initial parameter settings shown above for any run of a single continuous model. For example, continuing with the Hill model example, you can set the power parameter `n` to be equal to 1. You do this by changing the initial, minimum, and maximum values of that parameter:"
   ]
  },
  {
   "cell_type": "code",
   "execution_count": null,
   "id": "480d63d3-2b87-4431-b178-0d2811aba24c",
   "metadata": {
    "tags": []
   },
   "outputs": [],
   "source": [
    "model = continuous.Hill(dataset)\n",
    "model.settings.priors.update('n', initial_value=1, min_value=1, max_value=1)\n",
    "print(model.priors_tbl())"
   ]
  },
  {
   "cell_type": "markdown",
   "id": "f77c9fa6-e191-4d0d-afd5-f5b7bcd10547",
   "metadata": {
    "tags": []
   },
   "source": [
    "You can change the range and initial value for any parameter in the model by following the same steps above.\n",
    "\n",
    "## Run all models and select the best fit\n",
    "\n",
    "As shown in the Quickstart above, you can run all of the default continuous models and select the recommended model. To run all the default models, save the results, and save the plot of the fit of the recommended model with the data:"
   ]
  },
  {
   "cell_type": "code",
   "execution_count": null,
   "id": "c15e17d2-5e4b-44ea-9763-fd090f01d039",
   "metadata": {
    "tags": []
   },
   "outputs": [],
   "source": [
    "# create a continuous dataset\n",
    "dataset = pybmds.ContinuousDataset(\n",
    "    doses=[0, 25, 50, 75, 100],\n",
    "    ns=[20, 20, 20, 20, 20],\n",
    "    means=[6, 8, 13, 25, 30],\n",
    "    stdevs=[4, 4.3, 3.8, 4.4, 3.7]\n",
    ")\n",
    "\n",
    "session = pybmds.Session(dataset=dataset)\n",
    "session.add_default_models()\n",
    "\n",
    "# execute the session\n",
    "session.execute()\n",
    "\n",
    "# recommend a best-fitting model\n",
    "session.recommend()\n",
    "\n",
    "#print recommended model and plot recommended model with dataset\n",
    "model_index = session.recommender.results.recommended_model_index\n",
    "if model_index:\n",
    "    model = session.models[model_index]\n",
    "    model.plot()"
   ]
  },
  {
   "cell_type": "markdown",
   "id": "8378b152",
   "metadata": {},
   "source": [
    "You can also plot all models:"
   ]
  },
  {
   "cell_type": "code",
   "execution_count": null,
   "id": "88a4a743",
   "metadata": {},
   "outputs": [],
   "source": [
    "session.plot()"
   ]
  },
  {
   "cell_type": "code",
   "execution_count": null,
   "id": "2cfdb0ca",
   "metadata": {},
   "outputs": [],
   "source": [
    "session.plot(colorize=False)"
   ]
  },
  {
   "cell_type": "markdown",
   "id": "9a8bdb52-54e2-4930-b8ce-edabddcdbcb6",
   "metadata": {
    "tags": []
   },
   "source": [
    "## Run subset of models and select best fit\n",
    "\n",
    "You can select a set of models and find the best fit, rather than using all of the default continuous models. For example, to model average on the Hill, Linear, and Exponential 3, you can:"
   ]
  },
  {
   "cell_type": "code",
   "execution_count": null,
   "id": "29e5f77d-f4ef-4e5e-9840-25c9655f4d77",
   "metadata": {
    "tags": []
   },
   "outputs": [],
   "source": [
    "session1 = pybmds.Session(dataset=dataset)\n",
    "session1.add_model(pybmds.Models.Linear)\n",
    "session1.add_model(pybmds.Models.ExponentialM3)\n",
    "session1.add_model(pybmds.Models.Hill)\n",
    "\n",
    "session1.execute()\n",
    "session1.recommend()\n",
    "\n",
    "model_index = session1.recommender.results.recommended_model_index\n",
    "if model_index:\n",
    "    model = session1.models[model_index]\n",
    "    model.plot()"
   ]
  },
  {
   "cell_type": "markdown",
   "id": "17721c41-e781-4624-8f27-1f1a2c70712f",
   "metadata": {
    "tags": []
   },
   "source": [
    "## Changing the input settings\n",
    "\n",
    "The default settings when running a continuous analysis are a BMR of 1 standard deviation from the BMD, a 95% confidence interval, and a normally distributed and constant variance between dose groups. If you fit just one model to your dataset, you can change these settings by:"
   ]
  },
  {
   "cell_type": "code",
   "execution_count": null,
   "id": "85f648a0-ea24-4519-b1b6-aa216037f414",
   "metadata": {
    "tags": []
   },
   "outputs": [],
   "source": [
    "model = continuous.Hill(dataset)\n",
    "print(model.settings.tbl())\n",
    "print(model.priors_tbl())"
   ]
  },
  {
   "cell_type": "markdown",
   "id": "dfdcd6a6-1030-4ee4-8c34-c5322778b649",
   "metadata": {},
   "source": [
    "You can change individual model settings:\n"
   ]
  },
  {
   "cell_type": "code",
   "execution_count": null,
   "id": "85f880d1-0b79-4bc5-a87b-b47dc6fb0033",
   "metadata": {
    "tags": []
   },
   "outputs": [],
   "source": [
    "model = continuous.Hill(\n",
    "    dataset,\n",
    "    settings={\n",
    "        \"bmr\": 0.1,\n",
    "        \"bmr_type\": pybmds.ContinuousRiskType.RelativeDeviation,\n",
    "        \"disttype\": pybmds.ContinuousDistType.normal_ncv\n",
    "    }\n",
    ")\n",
    "model.settings.priors.update('k', max_value=3)\n",
    "print(model.settings.tbl())\n",
    "print(model.priors_tbl())"
   ]
  },
  {
   "cell_type": "markdown",
   "id": "b396e390-6de4-4344-9ba0-ef7fa33bf173",
   "metadata": {},
   "source": [
    "### Changing all model settings for a Session\n",
    "\n",
    "\n",
    "You can change model settings as well:"
   ]
  },
  {
   "cell_type": "code",
   "execution_count": null,
   "id": "5183dd54-6f5a-467d-a8ea-0f8d77aab832",
   "metadata": {
    "tags": []
   },
   "outputs": [],
   "source": [
    "session = pybmds.Session(dataset=dataset)\n",
    "session.add_default_models(\n",
    "    global_settings = {\n",
    "        \"disttype\": pybmds.ContinuousDistType.normal_ncv,\n",
    "        \"bmr_type\": pybmds.ContinuousRiskType.AbsoluteDeviation,\n",
    "        \"bmr\": 2,\n",
    "        \"alpha\": 0.1\n",
    "    }\n",
    ")"
   ]
  },
  {
   "cell_type": "markdown",
   "id": "48aeb080-48ed-4bc0-b1a0-3931c81142da",
   "metadata": {
    "editable": true,
    "slideshow": {
     "slide_type": ""
    },
    "tags": [
     "remove-cell"
    ]
   },
   "source": [
    "Here, we changed the settings to assume normally distributed and non-constant variance between dose groups and a 90% confidence interval. We also changed the BMR type to be absolute deviation with a value of 2. You can use the default BMR for the given BMR type or specify a different value. You can also change the`disttype` to be `DistType.log_normal`. If a log-normal distribution is selected, only the Hill and Exponential models will be run."
   ]
  }
 ],
 "metadata": {
  "kernelspec": {
   "display_name": "Python 3 (ipykernel)",
   "language": "python",
   "name": "python3"
  },
  "language_info": {
   "codemirror_mode": {
    "name": "ipython",
    "version": 3
   },
   "file_extension": ".py",
   "mimetype": "text/x-python",
   "name": "python",
   "nbconvert_exporter": "python",
   "pygments_lexer": "ipython3",
   "version": "3.11.9"
  }
 },
 "nbformat": 4,
 "nbformat_minor": 5
}
