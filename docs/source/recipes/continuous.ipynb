{
 "cells": [
  {
   "cell_type": "markdown",
   "id": "62e15e09-2066-4dc2-b2da-f97624fa0c2e",
   "metadata": {},
   "source": [
    "# Continuous Data"
   ]
  },
  {
   "cell_type": "code",
   "execution_count": null,
   "id": "6c64cb77-7b35-4ea5-86be-a31580b6c1d3",
   "metadata": {
    "tags": [
     "remove-cell"
    ]
   },
   "outputs": [],
   "source": [
    "%matplotlib inline\n",
    "import warnings\n",
    "from IPython.display import display\n",
    "warnings.filterwarnings('ignore')\n",
    "# tag: remove-cell applied"
   ]
  },
  {
   "cell_type": "markdown",
   "id": "5d824391-e8ed-4cd5-a11c-43cea91cb447",
   "metadata": {
    "tags": []
   },
   "source": [
    "## Quickstart\n",
    "\n",
    "To run a continuous dataset:"
   ]
  },
  {
   "cell_type": "code",
   "execution_count": null,
   "id": "6fef9f39-75b1-4de1-8738-a2807fd618a1",
   "metadata": {
    "tags": []
   },
   "outputs": [],
   "source": [
    "import pybmds\n",
    "\n",
    "# create a continuous dataset\n",
    "dataset = pybmds.ContinuousDataset(\n",
    "    doses=[0, 25, 50, 75, 100],\n",
    "    ns=[20, 20, 20, 20, 20],\n",
    "    means=[6, 8, 13, 25, 30],\n",
    "    stdevs=[4, 4.3, 3.8, 4.4, 3.7]\n",
    ")\n",
    "\n",
    "# create a session\n",
    "session = pybmds.Session(dataset=dataset)\n",
    "session.add_default_models()\n",
    "\n",
    "# execute the session; recommend best-fitting model\n",
    "session.execute_and_recommend()\n",
    "\n",
    "# save excel report\n",
    "df = session.to_df()\n",
    "df.to_excel(\"output/report.xlsx\")\n",
    "\n",
    "# save to a word report\n",
    "report = session.to_docx()\n",
    "report.save(\"output/report.docx\")"
   ]
  },
  {
   "cell_type": "markdown",
   "id": "6384479d-08d3-43e0-8cf2-4b4d7135b54a",
   "metadata": {
    "tags": []
   },
   "source": [
    "## Continuous datasets\n",
    "\n",
    "A continuous dataset requires a list of doses, mean responses, standard deviations, and the total number of subjects. All lists must be the same size, and there should be one item in each list for each dose-group. \n",
    "\n",
    "You can also add optional attributes, such as `name`, `dose_name`, `dose_units`, `response_name`, `response_units`, etc.\n",
    "\n",
    "For example:"
   ]
  },
  {
   "cell_type": "code",
   "execution_count": null,
   "id": "1765d1b0-a4b3-4d87-b8cd-597966887626",
   "metadata": {
    "tags": []
   },
   "outputs": [],
   "source": [
    "dataset = pybmds.ContinuousDataset(\n",
    "    name=\"Body Weight from ChemX Exposure\",\n",
    "    dose_name=\"Concentration\",\n",
    "    dose_units=\"ppm\",\n",
    "    response_units=\"kg\",\n",
    "    doses=[0, 25, 50, 75, 100],\n",
    "    ns=[20, 20, 20, 20, 20],\n",
    "    means=[6, 8, 13, 25, 30],\n",
    "    stdevs=[4, 4.3, 3.8, 4.4, 3.7]\n",
    ")\n",
    "dataset.plot()"
   ]
  },
  {
   "cell_type": "markdown",
   "id": "e1d74fca-a21e-441a-9f16-bf1188298b2e",
   "metadata": {
    "tags": []
   },
   "source": [
    "## Single model fit\n",
    "\n",
    "You can fit a specific model to the dataset and plot/print hte results. The printed results will include the BMD, BMDL, BMDU, p-value, AIC, etc. \n",
    "\n",
    "For example, to fit the Hill model, run the code below and plot the results:"
   ]
  },
  {
   "cell_type": "code",
   "execution_count": null,
   "id": "81434be0-442e-4873-aaf3-e571866df1f4",
   "metadata": {
    "tags": []
   },
   "outputs": [],
   "source": [
    "from pybmds.models import continuous\n",
    "\n",
    "model = continuous.Hill(dataset)\n",
    "model.execute()\n",
    "model.plot()"
   ]
  },
  {
   "cell_type": "markdown",
   "id": "ecbf6e53-9533-4eb8-b4e3-0f37e481fcd8",
   "metadata": {},
   "source": [
    "Run the code below to print an output report:"
   ]
  },
  {
   "cell_type": "code",
   "execution_count": null,
   "id": "77f0f658-9e91-443a-b2a0-f250432a4f73",
   "metadata": {
    "tags": []
   },
   "outputs": [],
   "source": [
    "print(model.text())"
   ]
  },
  {
   "cell_type": "markdown",
   "id": "817f14bf-79ae-4276-8008-604f17918d7b",
   "metadata": {},
   "source": [
    "You can change the range and initial value for any parameter in the model by following the same steps above."
   ]
  },
  {
   "cell_type": "markdown",
   "id": "17721c41-e781-4624-8f27-1f1a2c70712f",
   "metadata": {
    "tags": []
   },
   "source": [
    "### Change input settings\n",
    "\n",
    "The default settings when running a continuous analysis are a BMR of 1 standard deviation from the BMD, a 95% confidence interval, and a normally distributed and constant variance between dose groups. \n",
    "\n",
    "If you fit a single model to your dataset, you can change these settings:"
   ]
  },
  {
   "cell_type": "code",
   "execution_count": null,
   "id": "85f648a0-ea24-4519-b1b6-aa216037f414",
   "metadata": {
    "tags": []
   },
   "outputs": [],
   "source": [
    "model = continuous.Hill(dataset)\n",
    "print(model.settings.tbl())\n",
    "print(model.priors_tbl())"
   ]
  },
  {
   "cell_type": "markdown",
   "id": "dfdcd6a6-1030-4ee4-8c34-c5322778b649",
   "metadata": {},
   "source": [
    "You can change individual model settings:\n"
   ]
  },
  {
   "cell_type": "code",
   "execution_count": null,
   "id": "85f880d1-0b79-4bc5-a87b-b47dc6fb0033",
   "metadata": {
    "tags": []
   },
   "outputs": [],
   "source": [
    "model = continuous.Hill(\n",
    "    dataset,\n",
    "    settings={\n",
    "        \"bmr\": 0.1,\n",
    "        \"bmr_type\": pybmds.ContinuousRiskType.RelativeDeviation,\n",
    "        \"disttype\": pybmds.ContinuousDistType.normal_ncv\n",
    "    }\n",
    ")\n",
    "model.settings.priors.update('k', max_value=3)\n",
    "print(model.settings.tbl())\n",
    "print(model.priors_tbl())"
   ]
  },
  {
   "cell_type": "markdown",
   "id": "055564d5-c79c-4f7b-9241-28255ce6ef99",
   "metadata": {
    "tags": []
   },
   "source": [
    "For the Polynomial model, degrees can be increased to a maximum of the lesser of `n`-1 or 8, where `n` is the number of dose groups."
   ]
  },
  {
   "cell_type": "code",
   "execution_count": null,
   "id": "ab13547f-b3ed-4f44-9c74-0bfe041f29a6",
   "metadata": {
    "tags": []
   },
   "outputs": [],
   "source": [
    "continuous.Polynomial(dataset, settings = {\"degree\": 2})\n",
    "continuous.Polynomial(dataset, settings = {\"degree\": 3})"
   ]
  },
  {
   "cell_type": "markdown",
   "id": "d78eb9a3-115e-4c0c-aa6c-7f8c2efd631c",
   "metadata": {
    "tags": []
   },
   "source": [
    "### Change parameter settings\n",
    "\n",
    "To see a preview of the initial parameter settings:"
   ]
  },
  {
   "cell_type": "code",
   "execution_count": null,
   "id": "94b9102f-872a-496c-a89e-3bf2b8d82ab4",
   "metadata": {
    "tags": []
   },
   "outputs": [],
   "source": [
    "model = continuous.Hill(dataset)\n",
    "print(model.settings.tbl())\n",
    "print(model.priors_tbl())"
   ]
  },
  {
   "cell_type": "markdown",
   "id": "8cf7075b-ebcf-407a-b73d-a9aac7798ef5",
   "metadata": {
    "tags": []
   },
   "source": [
    "You can also change the initial parameter settings shown above for any run of a single continuous model. Continuing with the Hill model example, you can set the power parameter `n` to be equal to 1. You do this by changing the initial, minimum, and maximum values of that parameter:"
   ]
  },
  {
   "cell_type": "code",
   "execution_count": null,
   "id": "480d63d3-2b87-4431-b178-0d2811aba24c",
   "metadata": {
    "tags": []
   },
   "outputs": [],
   "source": [
    "model = continuous.Hill(dataset)\n",
    "model.settings.priors.update('n', initial_value=1, min_value=1, max_value=1)\n",
    "print(model.priors_tbl())"
   ]
  },
  {
   "cell_type": "markdown",
   "id": "f77c9fa6-e191-4d0d-afd5-f5b7bcd10547",
   "metadata": {
    "tags": []
   },
   "source": [
    "## Multiple model fit (sessions) and model recommendation\n",
    "\n",
    "To run all the default models, save the results, and save the plot of the fit of the recommended model with the data:"
   ]
  },
  {
   "cell_type": "code",
   "execution_count": null,
   "id": "c15e17d2-5e4b-44ea-9763-fd090f01d039",
   "metadata": {
    "tags": []
   },
   "outputs": [],
   "source": [
    "# create a continuous dataset\n",
    "dataset = pybmds.ContinuousDataset(\n",
    "    doses=[0, 25, 50, 75, 100],\n",
    "    ns=[20, 20, 20, 20, 20],\n",
    "    means=[6, 8, 13, 25, 30],\n",
    "    stdevs=[4, 4.3, 3.8, 4.4, 3.7]\n",
    ")\n",
    "\n",
    "session = pybmds.Session(dataset=dataset)\n",
    "session.add_default_models()\n",
    "\n",
    "# execute the session\n",
    "session.execute()\n",
    "\n",
    "# recommend a best-fitting model\n",
    "session.recommend()\n",
    "\n",
    "#print recommended model and plot recommended model with dataset\n",
    "model_index = session.recommender.results.recommended_model_index\n",
    "if model_index:\n",
    "    model = session.models[model_index]\n",
    "    model.plot()"
   ]
  },
  {
   "cell_type": "markdown",
   "id": "8378b152",
   "metadata": {},
   "source": [
    "You can also plot all models:"
   ]
  },
  {
   "cell_type": "code",
   "execution_count": null,
   "id": "88a4a743",
   "metadata": {},
   "outputs": [],
   "source": [
    "session.plot()"
   ]
  },
  {
   "cell_type": "code",
   "execution_count": null,
   "id": "2cfdb0ca",
   "metadata": {},
   "outputs": [],
   "source": [
    "session.plot(colorize=False)"
   ]
  },
  {
   "cell_type": "markdown",
   "id": "b396e390-6de4-4344-9ba0-ef7fa33bf173",
   "metadata": {},
   "source": [
    "### Change model settings\n",
    "\n",
    "To change model settings to all default models added to a session:"
   ]
  },
  {
   "cell_type": "code",
   "execution_count": null,
   "id": "5183dd54-6f5a-467d-a8ea-0f8d77aab832",
   "metadata": {
    "tags": []
   },
   "outputs": [],
   "source": [
    "session = pybmds.Session(dataset=dataset)\n",
    "session.add_default_models(\n",
    "    settings = {\n",
    "        \"disttype\": pybmds.ContinuousDistType.normal_ncv,\n",
    "        \"bmr_type\": pybmds.ContinuousRiskType.AbsoluteDeviation,\n",
    "        \"bmr\": 2,\n",
    "        \"alpha\": 0.1\n",
    "    }\n",
    ")"
   ]
  },
  {
   "cell_type": "markdown",
   "id": "48aeb080-48ed-4bc0-b1a0-3931c81142da",
   "metadata": {
    "editable": true,
    "slideshow": {
     "slide_type": ""
    },
    "tags": [
     "remove-cell"
    ]
   },
   "source": [
    "Here, we changed the settings to assume normally distributed and non-constant variance between dose groups and a 90% confidence interval. We also changed the BMR type to be absolute deviation with a value of 2. You can use the default BMR for the given BMR type or specify a different value. You can also change the`disttype` to be `DistType.log_normal`. If a log-normal distribution is selected, only the Hill and Exponential models will be run."
   ]
  },
  {
   "cell_type": "markdown",
   "id": "9a8bdb52-54e2-4930-b8ce-edabddcdbcb6",
   "metadata": {
    "tags": []
   },
   "source": [
    "### Run subset of models and select best fit\n",
    "\n",
    "You can select a set of models and find the best fit, rather than using all of the default continuous models. \n",
    "\n",
    "For example, to model average on the Hill, Linear, and Exponential 3:"
   ]
  },
  {
   "cell_type": "code",
   "execution_count": null,
   "id": "29e5f77d-f4ef-4e5e-9840-25c9655f4d77",
   "metadata": {
    "tags": []
   },
   "outputs": [],
   "source": [
    "session = pybmds.Session(dataset=dataset)\n",
    "session.add_model(pybmds.Models.Linear)\n",
    "session.add_model(pybmds.Models.ExponentialM3)\n",
    "session.add_model(pybmds.Models.Hill)\n",
    "\n",
    "session.execute()"
   ]
  },
  {
   "cell_type": "markdown",
   "id": "8b279b9a-ad85-4d7b-b5f4-1fc0d3a9f626",
   "metadata": {},
   "source": [
    "### Model recommendation and selection\n",
    "\n",
    "The `pybmds` package may recommend a best fitting model based on a decision tree, but expert judgment may be required for model selection. To run model recommendation and view a recommended model, if one is recommended:"
   ]
  },
  {
   "cell_type": "code",
   "execution_count": null,
   "id": "b3e2285f-242b-4117-a191-b47f46890f18",
   "metadata": {},
   "outputs": [],
   "source": [
    "session.recommend()\n",
    "\n",
    "if session.recommended_model is not None:\n",
    "    display(session.recommended_model.plot())\n",
    "    print(session.recommended_model.text())"
   ]
  },
  {
   "cell_type": "markdown",
   "id": "aefc97ca",
   "metadata": {},
   "source": [
    "You can select a best fitting model and output reports generated will indicate this selection.  This is a manual action. The example below selects the recommended model, but any model in the session could be selected."
   ]
  },
  {
   "cell_type": "code",
   "execution_count": null,
   "id": "63fe07aa",
   "metadata": {},
   "outputs": [],
   "source": [
    "session.select(model=session.recommended_model, notes=\"Lowest AIC; recommended model\")"
   ]
  }
 ],
 "metadata": {
  "kernelspec": {
   "display_name": "Python 3 (ipykernel)",
   "language": "python",
   "name": "python3"
  },
  "language_info": {
   "codemirror_mode": {
    "name": "ipython",
    "version": 3
   },
   "file_extension": ".py",
   "mimetype": "text/x-python",
   "name": "python",
   "nbconvert_exporter": "python",
   "pygments_lexer": "ipython3",
   "version": "3.12.4"
  }
 },
 "nbformat": 4,
 "nbformat_minor": 5
}
