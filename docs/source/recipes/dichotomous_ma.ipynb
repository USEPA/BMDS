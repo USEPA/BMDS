{
 "cells": [
  {
   "cell_type": "code",
   "execution_count": null,
   "id": "14b62dda-eab5-41de-8a8d-04107af195a6",
   "metadata": {
    "tags": [
     "remove-cell"
    ]
   },
   "outputs": [],
   "source": [
    "%matplotlib inline\n",
    "import warnings\n",
    "warnings.filterwarnings('ignore')\n",
    "# tag: remove-cell applied"
   ]
  },
  {
   "cell_type": "markdown",
   "id": "4433f50d-1ed7-4eab-9905-c116dfaa90f3",
   "metadata": {},
   "source": [
    "# Modeling Dichotomous Data with Bayesian Model Averaging\n",
    "\n",
    "Bayesian model averaging is currently only available for dichotomous datasets in BMDS. Here, we will go over how to run a dichotomous analysis with Bayesian model averaging and how to plot your results. Also, we will demonstrate how you can override the default priors for parameter estimation.\n",
    "\n",
    "## Quickstart\n",
    "\n",
    "To run Bayesian model averaging:"
   ]
  },
  {
   "cell_type": "code",
   "execution_count": null,
   "id": "6dc5b2d5-52ce-4a08-a9ca-0a1f96753a04",
   "metadata": {
    "tags": []
   },
   "outputs": [],
   "source": [
    "import pybmds\n",
    "\n",
    "# create a dichotomous dataset\n",
    "dataset = pybmds.DichotomousDataset(\n",
    "    doses=[0, 25, 75, 125, 200],\n",
    "    ns=[20, 20, 20, 20, 20],\n",
    "    incidences=[0, 1, 7, 15, 19],\n",
    ")\n",
    "\n",
    "session1 = pybmds.Session(dataset=dataset)\n",
    "session1.add_default_bayesian_models()\n",
    "session1.execute()\n",
    "\n",
    "res = session1.model_average.results\n",
    "print(f\"BMD = {res.bmd:.2f} [{res.bmdl:.2f}, {res.bmdu:.2f}]\")\n",
    "\n",
    "session1.plot(colorize=False)"
   ]
  },
  {
   "cell_type": "markdown",
   "id": "0ff3fa38-41d7-4a2b-bb21-10da404226b0",
   "metadata": {},
   "source": [
    "## Changing the input settings\n",
    "\n",
    "The default settings for a dichotomous Bayesian model averaged run use a BMR of 10% Extra Risk and a 95% confidence interval. You can change these settings by:"
   ]
  },
  {
   "cell_type": "code",
   "execution_count": null,
   "id": "af41c6c8-7a18-4738-8010-668ace96eb64",
   "metadata": {
    "tags": []
   },
   "outputs": [],
   "source": [
    "from pybmds.models import dichotomous\n",
    "\n",
    "session = pybmds.Session(dataset=dataset)\n",
    "session.add_default_bayesian_models(\n",
    "    global_settings = {\n",
    "        \"bmr\": 0.05,\n",
    "        \"bmr_type\": pybmds.DichotomousRiskType.AddedRisk,\n",
    "        \"alpha\": 0.1\n",
    "    }\n",
    ")"
   ]
  },
  {
   "cell_type": "markdown",
   "id": "35f72e0e-0741-4930-a0ea-2bb4f3722778",
   "metadata": {},
   "source": [
    "This would run the dichotomous models for a BMR of 5% Added Risk at a 90% confidence interval.\n",
    "\n",
    "## Running one Bayesian model\n",
    "\n",
    "You can also run one model with the default prior distributions for the parameters, rather than running all of the models and finding the model average. If you wanted to run the Logistic model with the default prior distributions, you coudl write the following snippet. Note the model outputs show the prior distributions for `a ~ Normal(0, 2)` and `b ~ Lognormal(0, 2)` and their constraints:"
   ]
  },
  {
   "cell_type": "code",
   "execution_count": null,
   "id": "7094f648-6a55-4fe1-aaef-37ec1281e7cd",
   "metadata": {
    "tags": []
   },
   "outputs": [],
   "source": [
    "model = dichotomous.Logistic(dataset=dataset, settings={\"priors\": pybmds.PriorClass.bayesian})\n",
    "result = model.execute()\n",
    "print(model.text())"
   ]
  },
  {
   "cell_type": "markdown",
   "id": "cb43edde-e21c-46f4-b34a-1e19b4d26d22",
   "metadata": {},
   "source": [
    "The default samples and burn-in are 100 and 20, respectively. You can change the burn-ins and samples by:"
   ]
  },
  {
   "cell_type": "code",
   "execution_count": null,
   "id": "c4dd639b-9221-4178-9b35-1851d5ce9b05",
   "metadata": {
    "tags": []
   },
   "outputs": [],
   "source": [
    "model = dichotomous.Logistic(\n",
    "    dataset=dataset,\n",
    "    settings={\n",
    "        \"priors\": pybmds.PriorClass.bayesian,\n",
    "        \"samples\": 1000,\n",
    "        \"burnin\": 500\n",
    "    }\n",
    ")"
   ]
  },
  {
   "cell_type": "markdown",
   "id": "e09bc09c-35ed-441e-9bde-8b9fff019ceb",
   "metadata": {},
   "source": [
    "The maximum number of samples allowed is 1000.\n",
    "\n",
    "## Changing parameter settings\n",
    "\n",
    "Running a single bayesian model with base configuration is shown below:"
   ]
  },
  {
   "cell_type": "code",
   "execution_count": null,
   "id": "7b313ea2-4d2e-495b-9d9e-7e96bef36d37",
   "metadata": {
    "tags": []
   },
   "outputs": [],
   "source": [
    "model = dichotomous.Logistic(dataset=dataset, settings={\"priors\": pybmds.PriorClass.bayesian})\n",
    "\n",
    "print(model.settings.tbl())\n",
    "print(model.priors_tbl())"
   ]
  },
  {
   "cell_type": "markdown",
   "id": "c6c1e7a8-beec-41f7-baca-0574467da697",
   "metadata": {},
   "source": [
    "Configuration of the model settings or priors can be configured:"
   ]
  },
  {
   "cell_type": "code",
   "execution_count": null,
   "id": "d502b288-9fd8-4875-a442-f2a9e8cb6a92",
   "metadata": {
    "tags": []
   },
   "outputs": [],
   "source": [
    "model = dichotomous.Logistic(\n",
    "    dataset=dataset,\n",
    "    settings={\n",
    "        \"priors\": pybmds.PriorClass.bayesian,\n",
    "        \"samples\": 1000,\n",
    "        \"burnin\": 500\n",
    "    }\n",
    ")\n",
    "model.settings.priors.update('a', stdev=1, min_value=-15, max_value=15)\n",
    "model.settings.priors.update('b', stdev=3)\n",
    "\n",
    "print(model.settings.tbl())\n",
    "print(model.priors_tbl())"
   ]
  },
  {
   "cell_type": "markdown",
   "id": "65bbbcdb-cb68-4032-8eb1-f0371ab760c6",
   "metadata": {},
   "source": [
    "You can also change the parameter prior types from the default listed in the BMDS User Guide. Parameters can be given a Normal, Log-Normal, or Uniform distribution. These can be changed by:"
   ]
  },
  {
   "cell_type": "code",
   "execution_count": null,
   "id": "d5eb6d83-4897-4805-880e-018f776a6129",
   "metadata": {
    "tags": []
   },
   "outputs": [],
   "source": [
    "model = dichotomous.Weibull(\n",
    "    dataset=dataset,\n",
    "    settings={\n",
    "        \"priors\": pybmds.PriorClass.bayesian,\n",
    "        \"samples\": 1000,\n",
    "        \"burnin\": 500\n",
    "    }\n",
    ")\n",
    "model.settings.priors.update('g', type=pybmds.PriorDistribution.Uniform, min_value=0, max_value=1)\n",
    "print(model.priors_tbl())"
   ]
  },
  {
   "cell_type": "markdown",
   "id": "f2dca0c4-cf45-4e12-839a-6b04e2b1f3db",
   "metadata": {},
   "source": [
    "Or:"
   ]
  },
  {
   "cell_type": "code",
   "execution_count": null,
   "id": "79882d0d-2e23-4881-a460-e7ab489a7f07",
   "metadata": {
    "tags": []
   },
   "outputs": [],
   "source": [
    "model.settings.priors.update(\n",
    "    'g', type=pybmds.PriorDistribution.Lognormal, min_value=0, max_value=1, initial_value=0, stdev=1.5\n",
    ")\n",
    "print(model.priors_tbl())"
   ]
  },
  {
   "cell_type": "markdown",
   "id": "5de6848c-7911-4c2f-8fd8-95ea4d938f0e",
   "metadata": {},
   "source": [
    "## Model average on a subset of models\n",
    "\n",
    "You can select a set of models to model average on, rather than using all of the default dichotomous models. For example, to model average on the Logistic, Probit, and Weibull models, you can:"
   ]
  },
  {
   "cell_type": "code",
   "execution_count": null,
   "id": "7e17adfd-94ff-4fed-920b-d08a646f22d0",
   "metadata": {
    "tags": []
   },
   "outputs": [],
   "source": [
    "session1 = pybmds.Session(dataset=dataset)\n",
    "session1.add_model(pybmds.Models.Weibull, {\"priors\": pybmds.PriorClass.bayesian})\n",
    "session1.add_model(pybmds.Models.Logistic, {\"priors\": pybmds.PriorClass.bayesian})\n",
    "session1.add_model(pybmds.Models.Probit, {\"priors\": pybmds.PriorClass.bayesian})\n",
    "session1.add_model_averaging()\n",
    "\n",
    "session1.execute()\n",
    "\n",
    "res = session1.model_average.results\n",
    "print(f\"BMD = {res.bmd:.2f} [{res.bmdl:.2f}, {res.bmdu:.2f}]\")\n",
    "\n",
    "session1.plot(colorize=False)"
   ]
  }
 ],
 "metadata": {
  "kernelspec": {
   "display_name": "Python 3 (ipykernel)",
   "language": "python",
   "name": "python3"
  },
  "language_info": {
   "codemirror_mode": {
    "name": "ipython",
    "version": 3
   },
   "file_extension": ".py",
   "mimetype": "text/x-python",
   "name": "python",
   "nbconvert_exporter": "python",
   "pygments_lexer": "ipython3",
   "version": "3.11.9"
  }
 },
 "nbformat": 4,
 "nbformat_minor": 5
}
