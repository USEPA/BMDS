{
 "cells": [
  {
   "cell_type": "markdown",
   "id": "e075d6e2-c40f-4e86-b06b-7c673a13a87b",
   "metadata": {},
   "source": [
    "To run the Cochran-Armitage test on a single dataset with a strong apparent trend and return the Asymptotic and Exact p-values:"
   ]
  },
  {
   "cell_type": "code",
   "execution_count": 20,
   "id": "f6167c39-1384-4ea6-a577-43cb5e12c4cc",
   "metadata": {},
   "outputs": [
    {
     "name": "stdout",
     "output_type": "stream",
     "text": [
      "Test Statistic (Z): -7.496\n",
      "Asymptotic p-value: 0.0000\n",
      "Exact p-value: 0.0000\n"
     ]
    }
   ],
   "source": [
    "import numpy as np\n",
    "from pybmds.stats.cochran_armitage import cochran_armitage\n",
    "\n",
    "# Example data: single dataset with five dose groups - strong trend\n",
    "dose = np.array([0, 25, 75, 125, 200])        # strictly increasing doses\n",
    "n = np.array([20, 20, 20, 20, 20])          # subjects per group\n",
    "incidence = np.array([0, 1, 7, 15, 19])    # responders per group\n",
    "\n",
    "# Run the test\n",
    "result = cochran_armitage(dose, n, incidence)\n",
    "\n",
    "print(f\"Test Statistic (Z): {result.statistic:.3f}\")\n",
    "print(f\"Asymptotic p-value: {result.p_value_asymptotic:.4f}\")\n",
    "print(f\"Exact p-value: {result.p_value_exact:.4f}\")"
   ]
  },
  {
   "cell_type": "markdown",
   "id": "4185837e-7505-4afc-8cdf-74673637a00d",
   "metadata": {},
   "source": [
    "To report the Asymptotic and Exact p-values in scientific notation:"
   ]
  },
  {
   "cell_type": "code",
   "execution_count": 22,
   "id": "be9a2bd1-07bd-41b8-80d2-ac7bcebee7dd",
   "metadata": {},
   "outputs": [
    {
     "name": "stdout",
     "output_type": "stream",
     "text": [
      "Asymptotic p-value: 3.2929055004e-14\n",
      "\n",
      "Exact p-value: 1.2064629665e-16\n",
      "\n"
     ]
    }
   ],
   "source": [
    "print(f\"Asymptotic p-value: {result.p_value_asymptotic:.10e}\\n\")\n",
    "print(f\"Exact p-value: {result.p_value_exact:.10e}\\n\")"
   ]
  },
  {
   "cell_type": "markdown",
   "id": "7b873e6a-1e9f-4d5a-b941-92973c69ca4c",
   "metadata": {},
   "source": [
    "To run the Cochran-Armitage test on a single dataset with no apparent trend and return the Asymptotic and Exact p-values in scientific notation:"
   ]
  },
  {
   "cell_type": "code",
   "execution_count": 23,
   "id": "b1ead539-2f67-4b9a-a44c-3bdd7e3dbc0e",
   "metadata": {},
   "outputs": [
    {
     "name": "stdout",
     "output_type": "stream",
     "text": [
      "Test Statistic (Z): -1.115\n",
      "Asymptotic p-value: 1.3246065575e-01\n",
      "\n",
      "Exact p-value: 1.5239976028e-01\n",
      "\n"
     ]
    }
   ],
   "source": [
    "import numpy as np\n",
    "from pybmds.stats.cochran_armitage import cochran_armitage\n",
    "\n",
    "# Example data: single dataset with five dose groups - no trend\n",
    "dose = np.array([0, 25, 75, 125, 200])        # strictly increasing doses\n",
    "n = np.array([20, 20, 20, 20, 20])          # subjects per group\n",
    "incidence = np.array([0, 1, 2, 1, 2])    # responders per group\n",
    "\n",
    "# Run the test\n",
    "result = cochran_armitage(dose, n, incidence)\n",
    "\n",
    "print(f\"Test Statistic (Z): {result.statistic:.3f}\")\n",
    "print(f\"Asymptotic p-value: {result.p_value_asymptotic:.10e}\\n\")\n",
    "print(f\"Exact p-value: {result.p_value_exact:.10e}\\n\")"
   ]
  },
  {
   "cell_type": "markdown",
   "id": "ba20c50d-d50a-482a-b22a-4f661778cda6",
   "metadata": {},
   "source": [
    "If you have several dose-response datasets, you can run them in a batch.\n",
    "\n",
    "For example, consider a CSV with one row per dataset, using commas to separate columns, and semicolons to separate dose groups within a column:\n",
    "\n",
    "ID,Dose,Incidence,N\n",
    "1,0;25;75;125;200,0;1;7;15;19,20;20;20;20;20\n",
    "2,0;25;75;125;200,0;1;2;1;2,20;20;20;20;20\n",
    "3,0;25;75;125;200,0;1;3;6;8,20;20;20;20;20\n",
    "\n",
    "To run the Cochran-Armitage tests on all the datasets in the CSV file, first load the dataset into a data frame using the pandas library"
   ]
  },
  {
   "cell_type": "code",
   "execution_count": 25,
   "id": "0119ffbf-8726-48ed-b1f0-6121a15b3e80",
   "metadata": {},
   "outputs": [
    {
     "data": {
      "text/html": [
       "<div>\n",
       "<style scoped>\n",
       "    .dataframe tbody tr th:only-of-type {\n",
       "        vertical-align: middle;\n",
       "    }\n",
       "\n",
       "    .dataframe tbody tr th {\n",
       "        vertical-align: top;\n",
       "    }\n",
       "\n",
       "    .dataframe thead th {\n",
       "        text-align: right;\n",
       "    }\n",
       "</style>\n",
       "<table border=\"1\" class=\"dataframe\">\n",
       "  <thead>\n",
       "    <tr style=\"text-align: right;\">\n",
       "      <th></th>\n",
       "      <th>ID</th>\n",
       "      <th>dose</th>\n",
       "      <th>incidence</th>\n",
       "      <th>n</th>\n",
       "    </tr>\n",
       "  </thead>\n",
       "  <tbody>\n",
       "    <tr>\n",
       "      <th>0</th>\n",
       "      <td>1</td>\n",
       "      <td>0;25;75;125; 200</td>\n",
       "      <td>0;1;7;15;19</td>\n",
       "      <td>20;20;20;20;20</td>\n",
       "    </tr>\n",
       "    <tr>\n",
       "      <th>1</th>\n",
       "      <td>2</td>\n",
       "      <td>0;25;75;125; 200</td>\n",
       "      <td>0;1;2;1;2</td>\n",
       "      <td>20;20;20;20;20</td>\n",
       "    </tr>\n",
       "    <tr>\n",
       "      <th>2</th>\n",
       "      <td>3</td>\n",
       "      <td>0;25;75;125; 200</td>\n",
       "      <td>0;1;3;6;8</td>\n",
       "      <td>20;20;20;20;20</td>\n",
       "    </tr>\n",
       "  </tbody>\n",
       "</table>\n",
       "</div>"
      ],
      "text/plain": [
       "   ID              dose    incidence               n\n",
       "0   1  0;25;75;125; 200  0;1;7;15;19  20;20;20;20;20\n",
       "1   2  0;25;75;125; 200    0;1;2;1;2  20;20;20;20;20\n",
       "2   3  0;25;75;125; 200    0;1;3;6;8  20;20;20;20;20"
      ]
     },
     "execution_count": 25,
     "metadata": {},
     "output_type": "execute_result"
    }
   ],
   "source": [
    "import pandas as pd\n",
    "\n",
    "# Load the CSV file (change 'datasets.csv' to your filename/path)\n",
    "df = pd.read_csv('batch_catt.csv')\n",
    "df.head()\n"
   ]
  },
  {
   "cell_type": "markdown",
   "id": "c108e2c9-61d2-4949-bd4e-91ae3ef02c43",
   "metadata": {},
   "source": [
    "Next, run the Cochran-Armitage test on the three loaded datasets and report the results as above:"
   ]
  },
  {
   "cell_type": "code",
   "execution_count": 26,
   "id": "4aa7f0e4-02d9-49ce-8269-0fe39b28d3ee",
   "metadata": {
    "scrolled": true
   },
   "outputs": [
    {
     "name": "stdout",
     "output_type": "stream",
     "text": [
      "Dataset 1 Results:\n",
      "  Test Statistic (Z): -7.496\n",
      "  Asymptotic p-value: 3.2929055004e-14\n",
      "  Exact p-value: 1.2064629665e-16\n",
      "\n",
      "Dataset 2 Results:\n",
      "  Test Statistic (Z): -1.115\n",
      "  Asymptotic p-value: 1.3246065575e-01\n",
      "  Exact p-value: 1.5239976028e-01\n",
      "\n",
      "Dataset 3 Results:\n",
      "  Test Statistic (Z): -3.881\n",
      "  Asymptotic p-value: 5.2026648898e-05\n",
      "  Exact p-value: 7.3542395040e-05\n",
      "\n"
     ]
    }
   ],
   "source": [
    "import numpy as np\n",
    "from pybmds.stats.cochran_armitage import cochran_armitage\n",
    "\n",
    "results = []\n",
    "for i, row in df.iterrows():\n",
    "    id=row.ID,\n",
    "    dose = np.array([float(x) for x in row['dose'].split(';')])\n",
    "    n = np.array([int(x) for x in row['n'].split(';')])\n",
    "    incidence = np.array([int(x) for x in row['incidence'].split(';')])\n",
    "    result = cochran_armitage(dose, n, incidence)\n",
    "    results.append(result)\n",
    "    print(f\"Dataset {i+1} Results:\")\n",
    "    print(f\"  Test Statistic (Z): {result.statistic:.3f}\")\n",
    "    print(f\"  Asymptotic p-value: {result.p_value_asymptotic:.10e}\")\n",
    "    print(f\"  Exact p-value: {result.p_value_exact:.10e}\\n\")"
   ]
  },
  {
   "cell_type": "code",
   "execution_count": null,
   "id": "9febad7c-d7e5-44df-8b6f-68dff0ea842b",
   "metadata": {},
   "outputs": [],
   "source": []
  }
 ],
 "metadata": {
  "kernelspec": {
   "display_name": "Python 3 (ipykernel)",
   "language": "python",
   "name": "python3"
  },
  "language_info": {
   "codemirror_mode": {
    "name": "ipython",
    "version": 3
   },
   "file_extension": ".py",
   "mimetype": "text/x-python",
   "name": "python",
   "nbconvert_exporter": "python",
   "pygments_lexer": "ipython3",
   "version": "3.13.3"
  }
 },
 "nbformat": 4,
 "nbformat_minor": 5
}
