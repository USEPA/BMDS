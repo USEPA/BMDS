{
 "cells": [
  {
   "cell_type": "code",
   "execution_count": null,
   "id": "aa612c85-6022-4125-8897-a8d36437a9ae",
   "metadata": {
    "editable": true,
    "slideshow": {
     "slide_type": ""
    },
    "tags": [
     "remove-cell"
    ]
   },
   "outputs": [],
   "source": [
    "%matplotlib inline\n",
    "%env TQDM_DISABLE=1\n",
    "import warnings\n",
    "warnings.filterwarnings('ignore')\n",
    "# tag: remove-cell applied"
   ]
  },
  {
   "cell_type": "markdown",
   "id": "a8cdc3f4-aaef-48b6-b108-25677a98db29",
   "metadata": {
    "editable": true,
    "slideshow": {
     "slide_type": ""
    },
    "tags": []
   },
   "source": [
    "# Customize an Excel Export\n",
    "\n",
    "After executing a batch analysis, you may want to add some additional information to the default Excel exports. The `pybmds` package stores all modeling information in a data structure that allows us to get both the data and reports. This notebook demonstrates running a simple batch analysis, and then augmenting the default Excel export with a few extra columns of information."
   ]
  },
  {
   "cell_type": "code",
   "execution_count": null,
   "id": "8d3b658a-5d13-4594-a7ce-a9f0c0720f69",
   "metadata": {
    "editable": true,
    "slideshow": {
     "slide_type": ""
    },
    "tags": []
   },
   "outputs": [],
   "source": [
    "from pprint import pprint\n",
    "\n",
    "import pandas as pd\n",
    "\n",
    "import pybmds"
   ]
  },
  {
   "cell_type": "markdown",
   "id": "3a298046-442d-4a71-9e80-2b941bd3c74b",
   "metadata": {
    "editable": true,
    "slideshow": {
     "slide_type": ""
    },
    "tags": []
   },
   "source": [
    "As a simple example, we'll generate a batch analysis using a few option sets and a single dataset. You could adapt this code to run a custom analysis of your choosing:"
   ]
  },
  {
   "cell_type": "code",
   "execution_count": null,
   "id": "1f34dff0-c6d3-4978-acb8-968679756caf",
   "metadata": {
    "editable": true,
    "slideshow": {
     "slide_type": ""
    },
    "tags": []
   },
   "outputs": [],
   "source": [
    "def build_cont_sess(ds):\n",
    "    def add_model(sess, Model, base, additions=None):\n",
    "        settings = {\n",
    "            \"priors\": pybmds.PriorClass.frequentist_restricted,\n",
    "            \"bmr_type\": base[0],\n",
    "            \"bmr\": base[1],\n",
    "            \"disttype\": base[2],\n",
    "        }\n",
    "        if additions is not None:\n",
    "            settings.update(additions)\n",
    "        sess.add_model(Model, settings)\n",
    "\n",
    "    option_sets = [\n",
    "        (pybmds.ContinuousRiskType.RelativeDeviation, 0.1, pybmds.ContinuousDistType.normal),\n",
    "        (pybmds.ContinuousRiskType.RelativeDeviation, 0.1, pybmds.ContinuousDistType.normal_ncv),\n",
    "    ]\n",
    "    sessions = []\n",
    "    for option_set in option_sets:\n",
    "        sess = pybmds.Session(dataset=ds)\n",
    "        add_model(sess, pybmds.Models.ExponentialM3, option_set)\n",
    "        add_model(sess, pybmds.Models.ExponentialM5, option_set)\n",
    "        add_model(sess, pybmds.Models.Power, option_set)\n",
    "        add_model(sess, pybmds.Models.Power, option_set)\n",
    "        add_model(sess, pybmds.Models.Linear, option_set)\n",
    "        add_model(sess, pybmds.Models.Polynomial, option_set, {\"degree\": 2})\n",
    "        add_model(sess, pybmds.Models.Polynomial, option_set, {\"degree\": 3})\n",
    "        sess.execute_and_recommend()\n",
    "        sessions.append(sess.to_dict())\n",
    "    return pybmds.BatchResponse(success=True, content=sessions)\n",
    "\n",
    "\n",
    "datasets = [\n",
    "    pybmds.ContinuousDataset(\n",
    "        doses=[0, 10, 50, 150, 400],\n",
    "        ns=[111, 142, 143, 93, 42],\n",
    "        means=[2.112, 2.095, 1.956, 1.587, 1.254],\n",
    "        stdevs=[0.235, 0.209, 0.231, 0.263, 0.159],\n",
    "    )\n",
    "]\n",
    "sess_batch = pybmds.BatchSession.execute(datasets, build_cont_sess, nprocs=1)"
   ]
  },
  {
   "cell_type": "markdown",
   "id": "b235b3cf-9eda-4faa-8081-ea3d00c7e2f9",
   "metadata": {
    "editable": true,
    "slideshow": {
     "slide_type": ""
    },
    "tags": []
   },
   "source": [
    "To generate a standard Excel export, you'd call this method:"
   ]
  },
  {
   "cell_type": "code",
   "execution_count": null,
   "id": "e49b7cb6-3eb2-489a-a2ef-0a33cd795c01",
   "metadata": {
    "editable": true,
    "slideshow": {
     "slide_type": ""
    },
    "tags": []
   },
   "outputs": [],
   "source": [
    "sess_batch.to_excel('output/batch.xlsx')"
   ]
  },
  {
   "cell_type": "markdown",
   "id": "79f51642-0ecc-4619-8522-db0096e256ac",
   "metadata": {
    "editable": true,
    "slideshow": {
     "slide_type": ""
    },
    "tags": []
   },
   "source": [
    "However, we'll want to customize this export to add more information. In this example, we may want to show more information regarding Analysis of Deviance Table than is generally shown in the summary exports. First, let's generate the the summary dataframe, which we'll want to add more info to:"
   ]
  },
  {
   "cell_type": "code",
   "execution_count": null,
   "id": "956921e8-5925-4d74-b5a1-3d4352509f24",
   "metadata": {
    "editable": true,
    "slideshow": {
     "slide_type": ""
    },
    "tags": []
   },
   "outputs": [],
   "source": [
    "df_summary = sess_batch.df_summary()\n",
    "df_summary.head()"
   ]
  },
  {
   "cell_type": "markdown",
   "id": "1973ac02-baec-4add-adad-217f575885e5",
   "metadata": {
    "editable": true,
    "slideshow": {
     "slide_type": ""
    },
    "tags": []
   },
   "source": [
    "Which has 5 rows and 37 columns. Now, let's add some additional information to the summary table. We'll iterate all the sessions in our dataset, and all the models in each session, and create a new data frame that we can merge with the default summary data frame:"
   ]
  },
  {
   "cell_type": "code",
   "execution_count": null,
   "id": "cca3b184-35db-4a2a-afcd-61e7f83572ab",
   "metadata": {
    "editable": true,
    "slideshow": {
     "slide_type": ""
    },
    "tags": []
   },
   "outputs": [],
   "source": [
    "rows = []\n",
    "for i, session in enumerate(sess_batch.session):\n",
    "    for j, model in enumerate(session.models):\n",
    "        data = {\n",
    "            \"session_index\": i,\n",
    "            \"bmds_model_index\": j,\n",
    "        }\n",
    "        if model.has_results:\n",
    "            res = model.results\n",
    "            data.update({\n",
    "                \"A1_ll\": res.deviance.loglikelihoods[0],\n",
    "                \"A2_ll\": res.deviance.loglikelihoods[1],\n",
    "                \"A3_ll\": res.deviance.loglikelihoods[2],\n",
    "                \"fitted_ll\": res.deviance.loglikelihoods[3],\n",
    "                \"reduced_ll\": res.deviance.loglikelihoods[4],\n",
    "                \"A1_aic\": res.deviance.aics[0],\n",
    "                \"A2_aic\": res.deviance.aics[1],\n",
    "                \"A3_aic\": res.deviance.aics[2],\n",
    "                \"fitted_aic\": res.deviance.aics[3],\n",
    "                \"reduced_aic\": res.deviance.aics[4],\n",
    "            })\n",
    "        rows.append(data)\n",
    "\n",
    "df2 = pd.DataFrame(rows)\n",
    "df2.head()"
   ]
  },
  {
   "cell_type": "markdown",
   "id": "7ef747fb-4534-4706-95a4-1991135118f3",
   "metadata": {
    "editable": true,
    "slideshow": {
     "slide_type": ""
    },
    "tags": []
   },
   "source": [
    "Now, we can join the two data frames together, using the session and model keys to join:"
   ]
  },
  {
   "cell_type": "code",
   "execution_count": null,
   "id": "04be2025-8c94-4426-bf4a-4f1e7c002213",
   "metadata": {
    "editable": true,
    "slideshow": {
     "slide_type": ""
    },
    "tags": []
   },
   "outputs": [],
   "source": [
    "df_summary2 = pd.merge(df_summary, df2, on=[\"session_index\", \"bmds_model_index\"])\n",
    "df_summary2.head()"
   ]
  },
  {
   "cell_type": "markdown",
   "id": "f0e13f01-0bbd-4758-a1f9-a98bcbc05aec",
   "metadata": {
    "editable": true,
    "slideshow": {
     "slide_type": ""
    },
    "tags": []
   },
   "source": [
    "Now, the summary dataframe has 47 columns instead of 35.\n",
    "\n",
    "Finally, we'll write the Excel export, with multiple tabs for different types of data:"
   ]
  },
  {
   "cell_type": "code",
   "execution_count": null,
   "id": "15659ea4-56fd-426d-91c3-2ab1d8796cbb",
   "metadata": {
    "editable": true,
    "slideshow": {
     "slide_type": ""
    },
    "tags": []
   },
   "outputs": [],
   "source": [
    "with pd.ExcelWriter('output/report.xlsx') as writer:\n",
    "    data = {\n",
    "        \"summary\": df_summary2,\n",
    "        \"datasets\": sess_batch.df_dataset(),\n",
    "        \"parameters\": sess_batch.df_params(),\n",
    "    }\n",
    "    for name, df in data.items():\n",
    "        df.to_excel(writer, sheet_name=name, index=False)"
   ]
  },
  {
   "cell_type": "markdown",
   "id": "c295e75a-4888-4ac9-ad38-fb5d42820e6f",
   "metadata": {
    "editable": true,
    "slideshow": {
     "slide_type": ""
    },
    "tags": []
   },
   "source": [
    "This export includes our custom values!\n",
    "\n",
    "## Model result introspection\n",
    "\n",
    "A quick dive into introspecting the model results that are available and their data structures and text summaries.\n",
    "\n",
    "Let's grab the first model that was executed and look at it's results object:"
   ]
  },
  {
   "cell_type": "code",
   "execution_count": null,
   "id": "c44251a7-15f1-42b5-94e2-59d8742aa403",
   "metadata": {
    "editable": true,
    "slideshow": {
     "slide_type": ""
    },
    "tags": []
   },
   "outputs": [],
   "source": [
    "model = sess_batch.session[0].models[0]\n",
    "res = model.results"
   ]
  },
  {
   "cell_type": "markdown",
   "id": "0a4325b3-ca35-41d8-9953-42faf2a4a2eb",
   "metadata": {
    "editable": true,
    "slideshow": {
     "slide_type": ""
    },
    "tags": []
   },
   "source": [
    "This is a nested python data structure, for example:"
   ]
  },
  {
   "cell_type": "code",
   "execution_count": null,
   "id": "05a0826a-ea74-458e-a9fa-da34c2c4690e",
   "metadata": {
    "editable": true,
    "slideshow": {
     "slide_type": ""
    },
    "tags": []
   },
   "outputs": [],
   "source": [
    "print(f\"{res.bmd=}\")\n",
    "print(f\"{res.bmdl=}\")\n",
    "print(f\"{res.fit.aic=}\")"
   ]
  },
  {
   "cell_type": "markdown",
   "id": "b30318ca-b875-467c-bb4e-e3f79221ee8f",
   "metadata": {
    "editable": true,
    "slideshow": {
     "slide_type": ""
    },
    "tags": []
   },
   "source": [
    "To better understand the structure, we can \"pretty print\" a dictionary representation:"
   ]
  },
  {
   "cell_type": "code",
   "execution_count": null,
   "id": "d7aa8414-59e9-45af-a706-507c8d2969f0",
   "metadata": {
    "editable": true,
    "slideshow": {
     "slide_type": ""
    },
    "tags": []
   },
   "outputs": [],
   "source": [
    "data = res.model_dump()\n",
    "\n",
    "# truncate a few fields so they print better... (you can ignore this code)\n",
    "data['fit']['bmd_dist'][0] = data['fit']['bmd_dist'][0][:5]\n",
    "data['fit']['bmd_dist'][1] = data['fit']['bmd_dist'][1][:5]\n",
    "data['plotting']['dr_x'] = data['plotting']['dr_x'][:5]\n",
    "data['plotting']['dr_y'] = data['plotting']['dr_y'][:5]\n",
    "\n",
    "pprint(data, indent=2, width=140, sort_dicts=True)"
   ]
  },
  {
   "cell_type": "markdown",
   "id": "4652a3bd-26c6-4a96-9503-dc77c5422d04",
   "metadata": {
    "editable": true,
    "slideshow": {
     "slide_type": ""
    },
    "tags": []
   },
   "source": [
    "This may be helpful in trying to find particular values in the nested results."
   ]
  },
  {
   "cell_type": "markdown",
   "id": "1cf71415-b9ab-4e98-bc14-1c273e83bf9e",
   "metadata": {
    "editable": true,
    "slideshow": {
     "slide_type": ""
    },
    "tags": []
   },
   "source": [
    "### Build a text table\n",
    "\n",
    "This is a helpful pattern to print data in a tabular format:"
   ]
  },
  {
   "cell_type": "code",
   "execution_count": null,
   "id": "5e9adae9-03f3-4c3b-ac2e-9ca7a2314f19",
   "metadata": {
    "editable": true,
    "slideshow": {
     "slide_type": ""
    },
    "tags": []
   },
   "outputs": [],
   "source": [
    "for name, df, ll, p_value in zip(res.tests.names, res.tests.dfs, res.tests.ll_ratios, res.tests.p_values, strict=True):\n",
    "    print(f\"{name:10} {df: <6} {ll: <10.4f} {p_value: <8.6f}\")"
   ]
  }
 ],
 "metadata": {
  "kernelspec": {
   "display_name": "Python 3 (ipykernel)",
   "language": "python",
   "name": "python3"
  },
  "language_info": {
   "codemirror_mode": {
    "name": "ipython",
    "version": 3
   },
   "file_extension": ".py",
   "mimetype": "text/x-python",
   "name": "python",
   "nbconvert_exporter": "python",
   "pygments_lexer": "ipython3",
   "version": "3.12.4"
  }
 },
 "nbformat": 4,
 "nbformat_minor": 5
}
