{
 "cells": [
  {
   "cell_type": "markdown",
   "id": "f9c282b3-64f3-4cb6-8b64-436075d49a9e",
   "metadata": {
    "tags": []
   },
   "source": [
    "# Modeling Nested Dichotomous Data"
   ]
  },
  {
   "cell_type": "markdown",
   "id": "0e80ffcd-f2c1-4c1f-8ef6-cb7d190fa2da",
   "metadata": {
    "tags": []
   },
   "source": [
    "## Quickstart\n",
    "\n",
    "To run a nested dichotomous dataset:"
   ]
  },
  {
   "cell_type": "code",
   "execution_count": null,
   "id": "51709924-8dfd-45aa-9151-07c948597fe1",
   "metadata": {
    "tags": [
     "remove-cell"
    ]
   },
   "outputs": [],
   "source": [
    "%matplotlib inline\n",
    "import warnings\n",
    "warnings.filterwarnings('ignore')\n",
    "# tag: remove-cell applied"
   ]
  },
  {
   "cell_type": "code",
   "execution_count": null,
   "id": "ef934601-fc08-47c1-82a5-2e085cc3adfd",
   "metadata": {
    "editable": true,
    "slideshow": {
     "slide_type": ""
    },
    "tags": []
   },
   "outputs": [],
   "source": [
    "import pybmds\n",
    "\n",
    "dataset = pybmds.NestedDichotomousDataset(\n",
    "    name=\"Nested Dataset\",\n",
    "    dose_units=\"ppm\",\n",
    "    doses= [\n",
    "        0, 0, 0, 0, 0, 0, 0, 0, 0, 0, 0,\n",
    "        25, 25, 25, 25, 25, 25, 25,\n",
    "        50, 50, 50, 50, 50, 50,\n",
    "        100, 100, 100, 100, 100,\n",
    "    ],\n",
    "    litter_ns = [\n",
    "        16, 9, 15, 14, 13, 9, 10, 14, 10, 11, 14,\n",
    "        9, 14, 9, 13, 12, 10, 10,\n",
    "        11, 14, 11, 11, 14, 11,\n",
    "        10, 11, 10, 15, 7,\n",
    "    ],\n",
    "    incidences = [\n",
    "        1, 1, 2, 3, 3, 0, 2, 2, 1, 2, 4,\n",
    "        5, 6, 2, 6, 3, 1, 2,\n",
    "        4, 3, 4, 5, 5, 4,\n",
    "        5, 4, 5, 6, 2,\n",
    "    ],\n",
    "    litter_covariates = [\n",
    "        16, 9, 15, 14, 13, 9, 10, 14, 10, 11, 14,\n",
    "        9, 14, 9, 13, 12, 10, 10,\n",
    "        11, 14, 11, 11, 14, 11,\n",
    "        10, 11, 10, 15, 7,\n",
    "    ]\n",
    ")\n",
    "\n",
    "# create a BMD session\n",
    "session = pybmds.Session(dataset=dataset)\n",
    "\n",
    "# add all default models\n",
    "session.add_default_models()\n",
    "\n",
    "# execute the session\n",
    "session.execute()\n",
    "\n",
    "df = session.to_df()\n",
    "df.to_excel(\"output/report.xlsx\")"
   ]
  }
 ],
 "metadata": {
  "kernelspec": {
   "display_name": "Python 3 (ipykernel)",
   "language": "python",
   "name": "python3"
  },
  "language_info": {
   "codemirror_mode": {
    "name": "ipython",
    "version": 3
   },
   "file_extension": ".py",
   "mimetype": "text/x-python",
   "name": "python",
   "nbconvert_exporter": "python",
   "pygments_lexer": "ipython3",
   "version": "3.11.9"
  }
 },
 "nbformat": 4,
 "nbformat_minor": 5
}
