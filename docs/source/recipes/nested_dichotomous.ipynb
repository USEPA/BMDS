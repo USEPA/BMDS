{
 "cells": [
  {
   "cell_type": "markdown",
   "id": "f9c282b3-64f3-4cb6-8b64-436075d49a9e",
   "metadata": {
    "tags": []
   },
   "source": [
    "# Nested Dichotomous Data"
   ]
  },
  {
   "cell_type": "markdown",
   "id": "0e80ffcd-f2c1-4c1f-8ef6-cb7d190fa2da",
   "metadata": {
    "tags": []
   },
   "source": [
    "## Quickstart\n",
    "\n",
    "To run a nested dichotomous dataset:"
   ]
  },
  {
   "cell_type": "code",
   "execution_count": null,
   "id": "51709924-8dfd-45aa-9151-07c948597fe1",
   "metadata": {
    "tags": [
     "remove-cell"
    ]
   },
   "outputs": [],
   "source": [
    "%matplotlib inline\n",
    "import warnings\n",
    "warnings.filterwarnings('ignore')\n",
    "# tag: remove-cell applied"
   ]
  },
  {
   "cell_type": "code",
   "execution_count": null,
   "id": "ef934601-fc08-47c1-82a5-2e085cc3adfd",
   "metadata": {
    "editable": true,
    "slideshow": {
     "slide_type": ""
    },
    "tags": []
   },
   "outputs": [],
   "source": [
    "import pybmds\n",
    "\n",
    "dataset = pybmds.NestedDichotomousDataset(\n",
    "    name=\"Nested Dataset\",\n",
    "    dose_units=\"ppm\",\n",
    "    doses= [\n",
    "        0, 0, 0, 0, 0, 0, 0, 0, 0, 0,\n",
    "        25, 25, 25, 25, 25, 25, 25, 25, 25, 25,\n",
    "        50, 50, 50, 50, 50, 50, 50, 50, 50, 50,\n",
    "        100, 100, 100, 100, 100, 100, 100, 100, 100\n",
    "    ],\n",
    "    litter_ns = [\n",
    "        16, 9, 15, 14, 13, 9, 10, 14, 10, 11,\n",
    "        14, 9, 14, 9, 13, 12, 10, 10, 11, 14,\n",
    "        11, 11, 14, 11, 10, 11, 10, 15, 7, 14,\n",
    "        11, 14, 12, 13, 12, 14, 11, 8, 10\n",
    "    ],\n",
    "    incidences = [\n",
    "        1, 1, 2, 3, 3, 0, 2, 2, 1, 2,\n",
    "        4, 5, 6, 2, 6, 3, 1, 2, 4, 3,\n",
    "        4, 5, 5, 4, 5, 4, 5, 6, 2, 4,\n",
    "        6, 6, 8, 7, 8, 6, 6, 5, 4\n",
    "    ],\n",
    "    litter_covariates = [\n",
    "        16, 9, 15, 14, 13, 9, 10, 14, 10, 11,\n",
    "        14, 9, 14, 9, 13, 12, 10, 10, 11, 14,\n",
    "        11, 11, 14, 11, 10, 11, 10, 15, 7, 14,\n",
    "        11, 14, 12, 13, 12, 14, 11, 8, 10\n",
    "    ]\n",
    ")\n",
    "\n",
    "# create a BMD session\n",
    "session = pybmds.Session(dataset=dataset)\n",
    "\n",
    "# add all default models\n",
    "session.add_default_models()\n",
    "\n",
    "# execute the session\n",
    "session.execute()\n",
    "\n",
    "# recommend a best-fitting model\n",
    "session.recommend()\n",
    "\n",
    "if session.recommended_model is not None:\n",
    "    display(session.recommended_model.plot())\n",
    "    print(session.recommended_model.text())\n",
    "\n",
    "# save excel report\n",
    "df = session.to_df()\n",
    "df.to_excel(\"output/nd-report.xlsx\")\n",
    "\n",
    "# save to a word report\n",
    "report = session.to_docx()\n",
    "report.save(\"output/nd-report.docx\")"
   ]
  },
  {
   "cell_type": "markdown",
   "id": "e890e368-19f9-4132-b5d5-12b04201e6e2",
   "metadata": {},
   "source": [
    "## Nested dichotomous dataset\n",
    "\n",
    "Creating a nested dichotomous dataset requires a list of doses, litter ns, incidence, and litter covariates. All lists must have must have the same number of items, with the total items equal to the total number of litters.\n",
    "\n",
    "You can also add optional attributes, such as `name`, `dose_name`, `dose_units`, `response_name`, `response_units`, etc."
   ]
  },
  {
   "cell_type": "code",
   "execution_count": null,
   "id": "2bedaa61-1b20-46c4-8c67-5d1bc8ec9468",
   "metadata": {},
   "outputs": [],
   "source": [
    "dataset = pybmds.NestedDichotomousDataset(\n",
    "    name=\"ChemX\",\n",
    "    dose_name=\"Oral Gavage\",\n",
    "    dose_units=\"mg/kg/d\",\n",
    "    doses= [\n",
    "        0, 0, 0, 0, 0, 0, 0, 0, 0, 0,\n",
    "        25, 25, 25, 25, 25, 25, 25, 25, 25, 25,\n",
    "        50, 50, 50, 50, 50, 50, 50, 50, 50, 50,\n",
    "        100, 100, 100, 100, 100, 100, 100, 100, 100\n",
    "    ],\n",
    "    litter_ns = [\n",
    "        16, 9, 15, 14, 13, 9, 10, 14, 10, 11,\n",
    "        14, 9, 14, 9, 13, 12, 10, 10, 11, 14,\n",
    "        11, 11, 14, 11, 10, 11, 10, 15, 7, 14,\n",
    "        11, 14, 12, 13, 12, 14, 11, 8, 10\n",
    "    ],\n",
    "    incidences = [\n",
    "        1, 1, 2, 3, 3, 0, 2, 2, 1, 2,\n",
    "        4, 5, 6, 2, 6, 3, 1, 2, 4, 3,\n",
    "        4, 5, 5, 4, 5, 4, 5, 6, 2, 4,\n",
    "        6, 6, 8, 7, 8, 6, 6, 5, 4\n",
    "    ],\n",
    "    litter_covariates = [\n",
    "        16, 9, 15, 14, 13, 9, 10, 14, 10, 11,\n",
    "        14, 9, 14, 9, 13, 12, 10, 10, 11, 14,\n",
    "        11, 11, 14, 11, 10, 11, 10, 15, 7, 14,\n",
    "        11, 14, 12, 13, 12, 14, 11, 8, 10\n",
    "    ]\n",
    ")\n",
    "\n",
    "dataset.plot()"
   ]
  },
  {
   "cell_type": "markdown",
   "id": "484880bf-c9a8-4704-8b91-3a718ed317e9",
   "metadata": {},
   "source": [
    "## Single model fit\n",
    "\n",
    "If you want to fit only one model to your dataset, you can fit the specific model to the dataset and print the results such as the BMD, BMDL, BMDU, p-value, AIC, etc.\n",
    "\n",
    "For example, to execute the Nested Logistic model:"
   ]
  },
  {
   "cell_type": "code",
   "execution_count": null,
   "id": "b36ec5cf-c06f-4337-b97d-7e9ed770c6e0",
   "metadata": {},
   "outputs": [],
   "source": [
    "from pybmds.models import nested_dichotomous\n",
    "\n",
    "model = nested_dichotomous.NestedLogistic(dataset)\n",
    "model.execute()\n",
    "model.plot()"
   ]
  },
  {
   "cell_type": "markdown",
   "id": "400d6e59-bd34-4bf9-8d48-1104b8129665",
   "metadata": {},
   "source": [
    "An output report can be generated after execution:"
   ]
  },
  {
   "cell_type": "code",
   "execution_count": null,
   "id": "53aabb68-0351-4189-99c2-c123df146dd9",
   "metadata": {},
   "outputs": [],
   "source": [
    "print(model.text())"
   ]
  },
  {
   "cell_type": "markdown",
   "id": "7b7beed1-0685-41ec-90f5-25084ad4f641",
   "metadata": {},
   "source": [
    "### Change input settings\n",
    "\n",
    "\n",
    "The default settings for a use a BMR of 10% Extra Risk and a 95% confidence interval. Settings can be edited as shown below when executing a single model:"
   ]
  },
  {
   "cell_type": "code",
   "execution_count": null,
   "id": "93fb6941-d2b4-46e6-80ad-3b74708e728a",
   "metadata": {},
   "outputs": [],
   "source": [
    "model = nested_dichotomous.NestedLogistic(dataset, settings={\n",
    "    \"bmr\": 0.15,\n",
    "    \"bmr_type\": pybmds.DichotomousRiskType.AddedRisk\n",
    "})\n",
    "print(model.settings.tbl())"
   ]
  },
  {
   "cell_type": "markdown",
   "id": "85841391-bfc7-4989-acee-93da0c26e7f9",
   "metadata": {},
   "source": [
    "BMR settings are similar to standard dichotomous models. Nested Dichotomous models can be run with different mdoeling settings for  the Litter Specific Covariance (lsc) and the Intralitter Correlation (ilc):"
   ]
  },
  {
   "cell_type": "code",
   "execution_count": null,
   "id": "908284dc-e112-4651-a336-d27c18be317e",
   "metadata": {},
   "outputs": [],
   "source": [
    "from pybmds.types.nested_dichotomous import LitterSpecificCovariate, IntralitterCorrelation\n",
    "\n",
    "model = nested_dichotomous.NestedLogistic(dataset, settings={\n",
    "    \"litter_specific_covariate\": LitterSpecificCovariate.Unused,\n",
    "    \"intralitter_correlation\": IntralitterCorrelation.Zero,\n",
    "})\n",
    "print(model.settings.tbl())"
   ]
  },
  {
   "cell_type": "markdown",
   "id": "d92feb9e-1a0b-4206-a65a-d889498fa7e2",
   "metadata": {},
   "source": [
    "Choices for `LitterSpecificCovariate` include:"
   ]
  },
  {
   "cell_type": "code",
   "execution_count": null,
   "id": "46961fb7-09ce-43b9-bfee-4000d573789c",
   "metadata": {},
   "outputs": [],
   "source": [
    "for item in LitterSpecificCovariate:\n",
    "    print(f\"{item.name}: {item.value}\")"
   ]
  },
  {
   "cell_type": "markdown",
   "id": "33b065de-3f13-4214-989e-8b208147dee2",
   "metadata": {},
   "source": [
    "Choices for `IntralitterCorrelation` include:"
   ]
  },
  {
   "cell_type": "code",
   "execution_count": null,
   "id": "db6ce196-81f5-4cb7-9ff8-7d7d08884e14",
   "metadata": {},
   "outputs": [],
   "source": [
    "for item in IntralitterCorrelation:\n",
    "    print(f\"{item.name}: {item.value}\")"
   ]
  },
  {
   "cell_type": "markdown",
   "id": "989b4a61-cb08-47af-bdba-8f87fa34e72d",
   "metadata": {},
   "source": [
    "### Change parameter settings\n",
    "\n",
    "To preview initial parameter settings:"
   ]
  },
  {
   "cell_type": "code",
   "execution_count": null,
   "id": "73637f0a-a04e-4e04-bbcf-20dd490ff710",
   "metadata": {},
   "outputs": [],
   "source": [
    "model = nested_dichotomous.NestedLogistic(dataset)\n",
    "print(model.priors_tbl())"
   ]
  },
  {
   "cell_type": "markdown",
   "id": "07f44e64-695a-4bce-9adf-c191ed0ce80d",
   "metadata": {},
   "source": [
    "Initial parameter settings can also can be modified:"
   ]
  },
  {
   "cell_type": "code",
   "execution_count": null,
   "id": "97e68344-5d64-4435-834f-e3cd857c155b",
   "metadata": {},
   "outputs": [],
   "source": [
    "model.settings.priors.update('a', initial_value=2, min_value=-10, max_value=10)\n",
    "model.settings.priors.update('phi1', initial_value=10, min_value=5, max_value=100)\n",
    "print(model.priors_tbl())"
   ]
  },
  {
   "cell_type": "markdown",
   "id": "bb82ec19-45a1-4055-8d7e-9c9044752f17",
   "metadata": {},
   "source": [
    "## Multiple model fit (sessions) and model recommendation\n",
    "\n",
    "A Session in pybmds allows for multiple different models to be executed and potentially compared for model recommendation and selection.\n",
    "\n",
    "A common pattern may be to add multiple versions of the same model with varying settings for the litter specific covariate and intralitter correlation.  In the example below, we run four permutation of the Nested Logistic model:"
   ]
  },
  {
   "cell_type": "code",
   "execution_count": null,
   "id": "b26e5933-104f-4171-b4ba-611a8308e0d9",
   "metadata": {},
   "outputs": [],
   "source": [
    "session = pybmds.Session(dataset=dataset)\n",
    "\n",
    "for lsc in [LitterSpecificCovariate.Unused, LitterSpecificCovariate.OverallMean]:\n",
    "    for ilc in [IntralitterCorrelation.Zero, IntralitterCorrelation.Estimate]:\n",
    "        session.add_model(\n",
    "            pybmds.Models.NestedLogistic,\n",
    "            settings={\n",
    "                \"bmr\": 0.15,\n",
    "                \"litter_specific_covariate\": lsc,\n",
    "                \"intralitter_correlation\": ilc,\n",
    "            }\n",
    "        )\n",
    "\n",
    "session.execute()\n",
    "session.plot()"
   ]
  },
  {
   "cell_type": "markdown",
   "id": "9ccbf9ef-87ee-4d25-b583-2696eb30588e",
   "metadata": {},
   "source": [
    "Model recommendation can be enabled, and if a recommendation can be mode, you can view outputs:"
   ]
  },
  {
   "cell_type": "code",
   "execution_count": null,
   "id": "4bb5300a-8c1f-44f0-a12c-b5f6d5a231cf",
   "metadata": {},
   "outputs": [],
   "source": [
    "session.recommend()\n",
    "\n",
    "if session.recommended_model is not None:\n",
    "    display(session.recommended_model.plot())\n",
    "    print(session.recommended_model.text())"
   ]
  },
  {
   "cell_type": "markdown",
   "id": "9a04b81f-88e4-4695-a4e5-7f04205364e0",
   "metadata": {},
   "source": [
    "### Select a best fitting model\n",
    "\n",
    "The `pybmds` package may recommend a best fitting model based on a decision tree, but expert judgment may be required for model selection.\n",
    "\n",
    "You can select any model; in this example we can agree agree with the recommended model:"
   ]
  },
  {
   "cell_type": "code",
   "execution_count": null,
   "id": "82c18021-4bc2-47ef-8381-23f72b5b46b1",
   "metadata": {},
   "outputs": [],
   "source": [
    "session.select(model=session.recommended_model, notes=\"Lowest AIC; recommended model\")"
   ]
  },
  {
   "cell_type": "markdown",
   "id": "794662c4-3f0a-41e5-9a7c-bc45a5f077e5",
   "metadata": {},
   "source": [
    "Generated outputs (Excel, Word, JSON) would include model selection information."
   ]
  }
 ],
 "metadata": {
  "kernelspec": {
   "display_name": "Python 3 (ipykernel)",
   "language": "python",
   "name": "python3"
  },
  "language_info": {
   "codemirror_mode": {
    "name": "ipython",
    "version": 3
   },
   "file_extension": ".py",
   "mimetype": "text/x-python",
   "name": "python",
   "nbconvert_exporter": "python",
   "pygments_lexer": "ipython3",
   "version": "3.12.4"
  }
 },
 "nbformat": 4,
 "nbformat_minor": 5
}
