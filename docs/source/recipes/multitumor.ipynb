{
 "cells": [
  {
   "cell_type": "code",
   "execution_count": null,
   "id": "5d269100-1125-4fb6-bab8-f2635dead49c",
   "metadata": {
    "editable": true,
    "slideshow": {
     "slide_type": ""
    },
    "tags": [
     "remove-cell"
    ]
   },
   "outputs": [],
   "source": [
    "%matplotlib inline\n",
    "import warnings\n",
    "warnings.filterwarnings('ignore')\n",
    "from IPython.display import display\n",
    "# tag: remove-cell applied"
   ]
  },
  {
   "cell_type": "markdown",
   "id": "cf4c80db-9f06-44c7-bf2a-171eb936b64f",
   "metadata": {},
   "source": [
    "# Modeling Tumor Data\n",
    "\n",
    "Dichotomous tumor data is very similar to standard dichotomous tumor data, however, there are a few slight differences:\n",
    "\n",
    "* The multistage cancer model uses slightly different parameter settings for model fit than the standard multistage model\n",
    "* A cancer slope factor is calculated\n",
    "* In some cases, there may be a need to combinue multiple tumor datasets and calculate a single cancer slope factor\n",
    "\n",
    "To that end, this guide covers some slightly different appraoches that you can use in `pybmds` for handling tumor data.\n",
    "\n",
    "## Quickstart\n",
    "\n",
    "To run a single dichotomous dataset:"
   ]
  },
  {
   "cell_type": "code",
   "execution_count": null,
   "id": "de9301c9-a1b1-45ee-931e-532af3f8c1c1",
   "metadata": {},
   "outputs": [],
   "source": [
    "import pybmds\n",
    "from pybmds.models.dichotomous import MultistageCancer\n",
    "\n",
    "dataset = pybmds.DichotomousDataset(\n",
    "    doses=[0, 25, 75, 125, 200],\n",
    "    ns=[20, 20, 20, 20, 20],\n",
    "    incidences=[0, 1, 7, 15, 19],\n",
    "    name=\"Tumor dataset A\",\n",
    "    dose_units=\"mg/kg-d\"\n",
    ")\n",
    "\n",
    "model = MultistageCancer(dataset, settings={\"bmr\": 0.10})\n",
    "model.execute(slope_factor=True)\n",
    "\n",
    "print(f\"BMD = {model.results.bmd:f}\")\n",
    "print(f\"BMDL = {model.results.bmdl:f}\")\n",
    "print(f\"CSF = {model.results.slope_factor:f}\")\n",
    "\n",
    "model.plot()"
   ]
  },
  {
   "cell_type": "markdown",
   "id": "b9720801-ae08-4d56-b108-10465c32436e",
   "metadata": {},
   "source": [
    "To execute multiple tumor datasets and calculate a single combined slope factor:"
   ]
  },
  {
   "cell_type": "code",
   "execution_count": null,
   "id": "7f6e023c-c289-42d2-ab5f-dd50d89d28bf",
   "metadata": {},
   "outputs": [],
   "source": [
    "import pybmds\n",
    "from pybmds.models.multi_tumor import Multitumor\n",
    "\n",
    "datasets = [\n",
    "    pybmds.DichotomousDataset(\n",
    "        doses=[0, 25, 75, 125, 200],\n",
    "        ns=[20, 20, 20, 20, 20],\n",
    "        incidences=[0, 1, 7, 15, 19],\n",
    "        name=\"Tumor A\",\n",
    "        dose_units=\"mg/m³\"\n",
    "    ),\n",
    "    pybmds.DichotomousDataset(\n",
    "        doses=[0, 25, 75, 125, 200],\n",
    "        ns=[20, 20, 20, 20, 20],\n",
    "        incidences=[0, 0, 1, 7, 11],\n",
    "        name=\"Tumor B\",\n",
    "        dose_units=\"mg/m³\"\n",
    "    )\n",
    "]\n",
    "\n",
    "session = Multitumor(datasets, settings={\"bmr\": 0.2}, name=\"Example\")\n",
    "session.execute()\n",
    "\n",
    "session.plot()"
   ]
  },
  {
   "cell_type": "markdown",
   "id": "2acfae8b-7261-44b4-9b76-8b6f5f62d48e",
   "metadata": {},
   "source": [
    "We can view individual model results for selected models for each dataset as well:"
   ]
  },
  {
   "cell_type": "code",
   "execution_count": null,
   "id": "38e7602c-7e8f-4ccd-8311-9b23377b997e",
   "metadata": {},
   "outputs": [],
   "source": [
    "# Print overall results\n",
    "print(\"Overall\")\n",
    "print(f\"BMD = {session.results.bmd:f}\")\n",
    "print(f\"BMDL = {session.results.bmdl:f}\")\n",
    "print(f\"CSF = {session.results.slope_factor:f}\")\n",
    "print()\n",
    "\n",
    "# Print individual model results\n",
    "selected_model_indexes = session.results.selected_model_indexes\n",
    "for i, dataset_models in enumerate(session.models):\n",
    "    selected_index = selected_model_indexes[i]\n",
    "    selected_model = dataset_models[selected_index]\n",
    "    print(f\"{selected_model.dataset.metadata.name}: {selected_model.name()}\")\n",
    "    print(f\"BMD = {selected_model.results.bmd:f}\")\n",
    "    print(f\"BMDL = {selected_model.results.bmdl:f}\")\n",
    "    print(f\"CSF = {selected_model.results.slope_factor:f}\")\n",
    "    print()"
   ]
  },
  {
   "cell_type": "markdown",
   "id": "ad46d415-9fa8-4f7b-a509-a9998ebec98d",
   "metadata": {},
   "source": [
    "## Create a tumor dataset\n",
    "\n",
    "A tumor dataset is created just like a standard dichotomous dataset.\n",
    "\n",
    "To create a dichotomous dataset, you need a list of doses, incidences, and the total number of subjects. \n",
    "\n",
    "You can also add optional atributes, such as `name`, `dose_units`, `response_units`, etc."
   ]
  },
  {
   "cell_type": "code",
   "execution_count": null,
   "id": "cb66c3f7-be3b-4016-9f4a-eb058141e6bb",
   "metadata": {},
   "outputs": [],
   "source": [
    "dataset = pybmds.DichotomousDataset(\n",
    "    name=\"Chemical X Tumor A\",\n",
    "    dose_units=\"ppm\",\n",
    "    doses=[0, 25, 75, 125, 200],\n",
    "    ns=[20, 20, 20, 20, 20],\n",
    "    incidences=[0, 1, 7, 15, 19],\n",
    ")\n",
    "\n",
    "print(dataset.tbl())\n",
    "dataset.plot()"
   ]
  },
  {
   "cell_type": "markdown",
   "id": "c0e33664-75d3-401f-bdf2-dd00115bb05f",
   "metadata": {},
   "source": [
    "## Fitting a model to a dataset\n",
    "\n",
    "With a single tumor dataset defined above, you can run a single multistage cancer model:"
   ]
  },
  {
   "cell_type": "code",
   "execution_count": null,
   "id": "81baed15-3c78-49aa-8789-441a59e7c2cb",
   "metadata": {},
   "outputs": [],
   "source": [
    "import pybmds\n",
    "from pybmds.models.dichotomous import MultistageCancer\n",
    "\n",
    "model = MultistageCancer(dataset, settings={\"bmr\": 0.10, \"degree\": 2})\n",
    "model.execute(slope_factor=True)\n",
    "model.plot()"
   ]
  },
  {
   "cell_type": "markdown",
   "id": "cd5c892e-75e7-4317-b48d-62cc64a50f6a",
   "metadata": {},
   "source": [
    "After executing, results are stored in a `results` attribute on the model. You can view all results by calling the text method, or atribute atributes individually:"
   ]
  },
  {
   "cell_type": "code",
   "execution_count": null,
   "id": "54446a1b-5bdb-4f42-8730-d20ab20c2923",
   "metadata": {},
   "outputs": [],
   "source": [
    "print(model.name())\n",
    "print(f\"BMD = {session.results.bmd:f}\")\n",
    "print(f\"BMDL = {session.results.bmdl:f}\")\n",
    "print(f\"CSF = {session.results.slope_factor:f}\")"
   ]
  },
  {
   "cell_type": "code",
   "execution_count": null,
   "id": "54c272ac-e6db-4a0c-a604-a18a06b6ca2b",
   "metadata": {},
   "outputs": [],
   "source": [
    "print(model.text())"
   ]
  },
  {
   "cell_type": "markdown",
   "id": "e1809d35-f3e2-47fc-b9b5-8adfbd587370",
   "metadata": {},
   "source": [
    "### Customizing model settings\n",
    "\n",
    "Model settings can be customized for a run, just like standard dichotomous models."
   ]
  },
  {
   "cell_type": "code",
   "execution_count": null,
   "id": "32a1950c-6f86-4b91-bfc1-f40b5b7745dd",
   "metadata": {},
   "outputs": [],
   "source": [
    "model = MultistageCancer(\n",
    "    dataset, \n",
    "    settings = {\n",
    "        \"bmr_type\": pybmds.DichotomousRiskType.AddedRisk,\n",
    "        \"bmr\": 0.15, \n",
    "        \"degree\": 3\n",
    "})\n",
    "print(model.settings.tbl())"
   ]
  },
  {
   "cell_type": "markdown",
   "id": "ee29f187-36be-40d5-9e62-ed2c82b6c21d",
   "metadata": {},
   "source": [
    "#### Intitial model parameter settings\n",
    "\n",
    "Initial parameter settings are slightly different for the `MultistageCancer` model than the standard `Multistage`:"
   ]
  },
  {
   "cell_type": "code",
   "execution_count": null,
   "id": "33cb55e0-29da-4d40-bad0-90d23f92f2d7",
   "metadata": {},
   "outputs": [],
   "source": [
    "from pybmds.models.dichotomous import Multistage, MultistageCancer\n",
    "\n",
    "model = Multistage(dataset)\n",
    "print(\"Multistage parameter settings:\")\n",
    "print(model.priors_tbl())\n",
    "\n",
    "model = MultistageCancer(dataset)\n",
    "print(\"Multistage Cancer parameter settings:\")\n",
    "print(model.priors_tbl())"
   ]
  },
  {
   "cell_type": "markdown",
   "id": "e2bb7bfe-9b5e-4ee4-9357-822400cad69e",
   "metadata": {},
   "source": [
    "For multistage models, the `b2` parameter setting is reused for all beta parameters greater than or equal to b2.\n",
    "\n",
    "These can be updated:"
   ]
  },
  {
   "cell_type": "code",
   "execution_count": null,
   "id": "4502ec78-d33d-4c1a-abd0-3f6e3d260884",
   "metadata": {},
   "outputs": [],
   "source": [
    "model.settings.priors.update('g',  initial_value=0,  min_value=-10, max_value=10)\n",
    "model.settings.priors.update('b1', initial_value=10, min_value=0,   max_value=100)\n",
    "model.settings.priors.update('b2', initial_value=20, min_value=0,   max_value=1000)\n",
    "\n",
    "print(model.priors_tbl())"
   ]
  },
  {
   "cell_type": "markdown",
   "id": "95e351c2-56dd-41fe-8c12-6ac953c534fe",
   "metadata": {},
   "source": [
    "## Fitting multiple models to a dataset\n",
    "\n",
    "The example above runs a single Multitumor model to a single dataset. You may want to run multiple multitumor models of varying degrees for example to a single dataset. To do that, follow the guide below, but just fit one dataset instead of multiple (and ignore . \n",
    "\n",
    "This is because the model selection critieria for multiple models is only implemented in the Multitumor model below."
   ]
  },
  {
   "cell_type": "markdown",
   "id": "f9391539-fd81-460b-9ce7-cda3b1f575de",
   "metadata": {},
   "source": [
    "## Fitting one or more datasets\n",
    "\n",
    "To fit multiple models and and one ore more datasets, you'll use an instance of the Multitumor class:"
   ]
  },
  {
   "cell_type": "code",
   "execution_count": null,
   "id": "ad1fffd3-17e4-4460-b297-2c17760f8f22",
   "metadata": {},
   "outputs": [],
   "source": [
    "import pybmds\n",
    "from pybmds.models.multi_tumor import Multitumor\n",
    "\n",
    "datasets = [\n",
    "    pybmds.DichotomousDataset(\n",
    "        doses=[0, 25, 75, 125, 200],\n",
    "        ns=[20, 20, 20, 20, 20],\n",
    "        incidences=[0, 1, 7, 15, 19],\n",
    "        name=\"Tumor A\",\n",
    "        dose_units=\"mg/m³\"\n",
    "    ),\n",
    "    pybmds.DichotomousDataset(\n",
    "        doses=[0, 25, 75, 125, 200],\n",
    "        ns=[20, 20, 20, 20, 20],\n",
    "        incidences=[0, 0, 1, 7, 11],\n",
    "        name=\"Tumor B\",\n",
    "        dose_units=\"mg/m³\"\n",
    "    )\n",
    "]\n",
    "\n",
    "session = Multitumor(datasets)\n",
    "session.execute()\n",
    "session.plot()"
   ]
  },
  {
   "cell_type": "markdown",
   "id": "6f2afee4-1ed6-4aae-8828-72f62ea01796",
   "metadata": {},
   "source": [
    "You can also generate excel and word exports:"
   ]
  },
  {
   "cell_type": "code",
   "execution_count": null,
   "id": "3a5b6ada-3709-4ece-8064-8474f52d7029",
   "metadata": {},
   "outputs": [],
   "source": [
    "# save excel report\n",
    "df = session.to_df()\n",
    "df.to_excel(\"output/report.xlsx\")\n",
    "\n",
    "# save to a word report\n",
    "report = session.to_docx()\n",
    "report.save(\"output/report.docx\")"
   ]
  },
  {
   "cell_type": "markdown",
   "id": "ba0e4a2b-6c7f-47ac-a37c-854f9b29ad0c",
   "metadata": {},
   "source": [
    "### Customizing model settings\n",
    "\n",
    "Settings for all datasets and models should be configured globally and are applied to all models:"
   ]
  },
  {
   "cell_type": "code",
   "execution_count": null,
   "id": "0445f2a1-62ae-47fa-b70a-66850392bb10",
   "metadata": {},
   "outputs": [],
   "source": [
    "session = Multitumor(\n",
    "    datasets, \n",
    "    settings = {\n",
    "        \"bmr_type\": pybmds.DichotomousRiskType.AddedRisk,\n",
    "        \"bmr\": 0.15\n",
    "    }\n",
    ")"
   ]
  },
  {
   "cell_type": "markdown",
   "id": "122a4ce1-9562-4469-ba58-2bf3332b02f4",
   "metadata": {},
   "source": [
    "By default, multiple models are executed for each dataset, where the degree is varied from 1 to the number of doses minus 1 (and a maximum of 8). You can specify to run specific degrees only by selecting the desired degree using the `degrees` parameter. Setting a value of 8 runs multiple models, as described above:"
   ]
  },
  {
   "cell_type": "code",
   "execution_count": null,
   "id": "a533c6fe-27e3-4678-bd2a-119bc0c5a3e8",
   "metadata": {},
   "outputs": [],
   "source": [
    "datasets = [\n",
    "    pybmds.DichotomousDataset(\n",
    "        doses=[0, 2, 3, 4, 5, 6, 7, 8, 9],\n",
    "        ns=[20, 20, 20, 20, 20, 20, 20, 20, 20],\n",
    "        incidences=[0, 1, 4, 8, 11, 12, 13, 14, 15],\n",
    "        name=\"Tumor A (9 groups)\",\n",
    "        dose_units=\"mg/m³\"\n",
    "    ),\n",
    "    pybmds.DichotomousDataset(\n",
    "        doses=[0, 2, 3, 4, 5, 6, 7, 8, 9],\n",
    "        ns=[20, 20, 20, 20, 20, 20, 20, 20, 20],\n",
    "        incidences=[0, 1, 7, 15, 19, 19, 19, 19, 19],\n",
    "        name=\"Tumor B (9 groups)\",\n",
    "        dose_units=\"mg/m³\"\n",
    "    ),\n",
    "    pybmds.DichotomousDataset(\n",
    "        doses=[0, 2, 3, 4, 5],\n",
    "        ns=[20, 20, 20, 20, 20],\n",
    "        incidences=[0, 0, 1, 7, 11],\n",
    "        name=\"Tumor C (5 groups)\",\n",
    "        dose_units=\"mg/m³\"\n",
    "    )\n",
    "]\n",
    "\n",
    "# will run models 1-8 for the first dataset, only only degree 1 and 2 for other datasets, respectively\n",
    "degrees=[0, 1, 2]\n",
    "session = Multitumor(datasets, degrees=degrees)\n",
    "session.execute()\n",
    "\n",
    "session.plot()"
   ]
  },
  {
   "cell_type": "markdown",
   "id": "3e5e9729-432f-4f9c-aee6-ff0f24663984",
   "metadata": {},
   "source": [
    "This analysis ran the following models for each:"
   ]
  },
  {
   "cell_type": "code",
   "execution_count": null,
   "id": "96c7ae50-bf51-4d9d-bd63-7a90ee61880f",
   "metadata": {},
   "outputs": [],
   "source": [
    "for dataset_models in session.models:\n",
    "    print(f\"{dataset_models[0].dataset.metadata.name}\")\n",
    "    for model in dataset_models:\n",
    "        print(\"\\t\" + model.name())"
   ]
  }
 ],
 "metadata": {
  "kernelspec": {
   "display_name": "Python 3 (ipykernel)",
   "language": "python",
   "name": "python3"
  },
  "language_info": {
   "codemirror_mode": {
    "name": "ipython",
    "version": 3
   },
   "file_extension": ".py",
   "mimetype": "text/x-python",
   "name": "python",
   "nbconvert_exporter": "python",
   "pygments_lexer": "ipython3",
   "version": "3.12.0"
  }
 },
 "nbformat": 4,
 "nbformat_minor": 5
}
