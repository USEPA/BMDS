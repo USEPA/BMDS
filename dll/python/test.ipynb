{
 "cells": [
  {
   "attachments": {},
   "cell_type": "markdown",
   "metadata": {},
   "source": [
    "# Hello world `bmdscore`!\n",
    "\n",
    "Example notebook for how to set up and run a dichotomous analysis in bmds core\n"
   ]
  },
  {
   "cell_type": "code",
   "execution_count": 1,
   "metadata": {},
   "outputs": [],
   "source": [
    "from pybmds import bmdscore\n",
    "import numpy as np\n",
    "import pandas as pd\n",
    "import plotly.express as px"
   ]
  },
  {
   "cell_type": "code",
   "execution_count": 2,
   "metadata": {},
   "outputs": [
    {
     "name": "stdout",
     "output_type": "stream",
     "text": [
      "2023.10a1\n"
     ]
    }
   ],
   "source": [
    "print(bmdscore.version())"
   ]
  },
  {
   "cell_type": "code",
   "execution_count": 3,
   "metadata": {},
   "outputs": [],
   "source": [
    "doses = np.array([0, 50, 100, 150, 200])\n",
    "Y = np.array([0, 5, 30, 65, 90])\n",
    "n_group = np.array([100, 100, 100, 100, 100])\n",
    "prior = np.array([1.0, 2.0, 0.0, 0.1, 2.0, 1.0, -20.0, 1e-12, 20.0, 100.0])\n",
    "prior_cols = 5\n",
    "parms = int(len(prior) / prior_cols)\n",
    "da = bmdscore.python_dichotomous_analysis()\n",
    "da.model = bmdscore.dich_model.d_logistic\n",
    "da.n = len(n_group)\n",
    "da.Y=Y\n",
    "da.doses=doses\n",
    "da.n_group=n_group\n",
    "da.prior=prior\n",
    "da.BMD_type=1\n",
    "da.BMR=0.1\n",
    "da.alpha=0.05\n",
    "da.degree=parms - 1\n",
    "da.samples=100\n",
    "da.burnin=20\n",
    "da.parms=parms\n",
    "da.prior_cols=prior_cols"
   ]
  },
  {
   "cell_type": "code",
   "execution_count": 4,
   "metadata": {},
   "outputs": [],
   "source": [
    "da_res = bmdscore.python_dichotomous_model_result()\n",
    "da_res.model = bmdscore.dich_model.d_logistic\n",
    "da_res.nparms = parms\n",
    "da_res.dist_numE = 200\n",
    "da_res.parms = np.zeros(parms)\n",
    "da_res.cov  = np.zeros(parms ** 2)\n",
    "da_res.bmd_dist = np.zeros(200*2)"
   ]
  },
  {
   "cell_type": "code",
   "execution_count": 5,
   "metadata": {},
   "outputs": [],
   "source": [
    "n_groups = len(n_group)\n",
    "da_gof = bmdscore.dichotomous_GOF()\n",
    "da_gof.n = n_groups\n",
    "da_gof.expected = np.zeros(n_groups)\n",
    "da_gof.residual = np.zeros(n_groups)\n",
    "da_gof.ebLower = np.zeros(n_groups)\n",
    "da_gof.ebUpper = np.zeros(n_groups)\n"
   ]
  },
  {
   "cell_type": "code",
   "execution_count": 6,
   "metadata": {},
   "outputs": [],
   "source": [
    "da_res2 = bmdscore.BMDS_results()\n",
    "da_res2.bounded = np.zeros(parms, dtype=np.bool_)\n",
    "da_res2.stdErr = np.zeros(parms)\n",
    "da_res2.lowerConf = np.zeros(parms)\n",
    "da_res2.upperConf = np.zeros(parms)\n"
   ]
  },
  {
   "cell_type": "code",
   "execution_count": 7,
   "metadata": {},
   "outputs": [],
   "source": [
    "da_aod = bmdscore.dicho_AOD()"
   ]
  },
  {
   "cell_type": "code",
   "execution_count": 8,
   "metadata": {},
   "outputs": [],
   "source": [
    "bmdscore.pythonBMDSDicho(da, da_res, da_gof, da_res2, da_aod)"
   ]
  },
  {
   "cell_type": "code",
   "execution_count": 10,
   "metadata": {},
   "outputs": [
    {
     "name": "stdout",
     "output_type": "stream",
     "text": [
      "66.81731548068359\n",
      "58.69328299707072\n",
      "380.706107297199\n",
      "[False, False]\n"
     ]
    }
   ],
   "source": [
    "print(da_res2.BMD)\n",
    "print(da_res2.BMDL)\n",
    "print(da_res2.AIC)\n",
    "print(da_res2.bounded)"
   ]
  },
  {
   "cell_type": "code",
   "execution_count": null,
   "metadata": {},
   "outputs": [],
   "source": []
  }
 ],
 "metadata": {
  "kernelspec": {
   "display_name": "venv",
   "language": "python",
   "name": "python3"
  },
  "language_info": {
   "codemirror_mode": {
    "name": "ipython",
    "version": 3
   },
   "file_extension": ".py",
   "mimetype": "text/x-python",
   "name": "python",
   "nbconvert_exporter": "python",
   "pygments_lexer": "ipython3",
   "version": "3.11.3"
  },
  "orig_nbformat": 4
 },
 "nbformat": 4,
 "nbformat_minor": 2
}
